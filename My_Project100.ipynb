{
 "cells": [
  {
   "cell_type": "markdown",
   "id": "5c6d9d0d",
   "metadata": {},
   "source": [
    "| **№**           | **Задача**      |                       **Подзадача**                     | **Стадия** |\n",
    "| ----------- |:-----------| :-----------|:-----------:|\n",
    "| 1           | **Выбор датасета**                                     | -       | ✔ |\n",
    "| 2         | **Исследование и прототипирование в Jupyter Notebook**|2.1 Исследование, предобработка, визуализация данных | ✔ |\n",
    "|             |                                                      | 2.2 Feature Engineering | ✔ |\n",
    "|             |                                                   | 2.3 Прототип модели, ее обучение и тестирование | В работе |\n",
    "| 3           | **Разработка модели и валидация**                      | 3.1 Кросс-валидация | - |\n",
    "|             |                                                    | 3.2 Настройка гиперпараметров             | - |\n",
    "|             |                                                    | 3.3 Окончательная версия модели| - |\n",
    "| 4           | **Развертывание модели с FastAPI**                     | 4.1 Создание веб-сервиса с FastAPI | - |\n",
    "| 5           | **Контейнеризация с Docker**                           | 5.1 Docker-контейнер | - |\n",
    "|             |                                                    | 5.2 Dockerfile       | - |\n",
    "| 6           | **Размещение на Github и документация**                | 6.1 Размещение на GitHub | - |\n",
    "|             |                                                    | 6.2 README.md файл       | - |\n",
    "|             |                                                    |6.3  Инструкция с развертыванием веб-сервиса       | - |\n",
    "|             |                                                    | 6.4 Примеры запросов к API       | - |"
   ]
  },
  {
   "cell_type": "markdown",
   "id": "d76b9a61",
   "metadata": {
    "id": "d76b9a61"
   },
   "source": [
    "В данной работе выбран датасет **CIFAR-100 Python**, который представляет собой коллекцию картинок для тренировки алгоритмов компьютерного зрения.  \n",
    "\n",
    "[Ссылка на датасет] (https://www.kaggle.com/datasets/fedesoriano/cifar100/data)  \n",
    "\n",
    "Задача заключается в том, чтобы распознать ***группу*** изображения на картинке, т.е. предполагается задача мультиклассификации."
   ]
  },
  {
   "cell_type": "markdown",
   "id": "aa263620",
   "metadata": {
    "id": "aa263620"
   },
   "source": [
    "# 1 Выбор датасета"
   ]
  },
  {
   "cell_type": "markdown",
   "id": "a891da3e",
   "metadata": {
    "id": "a891da3e"
   },
   "source": [
    "- Набор данных CIFAR-100 состоит из 60 000 цветных изображений размером 32x32 пикселя в 100 классах, по 600 изображений в каждом классе.  \n",
    "- 100 классов (classes) CIFAR-100 сгруппированы в **20 групп** (superclasses).  \n",
    "- Каждое изображение имеет «fine» метку (класс, к которому оно принадлежит) и **«coarse»** метку (группа, к которому оно принадлежит).  "
   ]
  },
  {
   "cell_type": "markdown",
   "id": "8784e8ef",
   "metadata": {
    "id": "8784e8ef"
   },
   "source": [
    "Cписок 100 классов CIFAR-100:\n",
    "\n",
    "Классы (classes):\n",
    "- 1-5) бобр, дельфин, выдра, тюлень, кит\n",
    "- 6-10) аквариумные рыбы, камбала, скат, акула, форель\n",
    "- 11-15) орхидеи, маки, розы, подсолнухи, тюльпаны\n",
    "- 16-20) бутылки, миски, банки, чашки, тарелки\n",
    "- 21-25) яблоки, грибы, апельсины, груши, сладкий перец\n",
    "- 26-30) часы, клавиатура компьютера, лампа, телефон, телевизор\n",
    "- 31-35) кровать, стул, диван, стол, шкаф\n",
    "- 36-40) пчела, жук, бабочка, гусеница, таракан\n",
    "- 41-45) медведь, леопард, лев, тигр, волк\n",
    "- 46-50) мост, замок, дом, дорога, небоскрёб\n",
    "- 51-55) облако, лес, гора, равнина, море\n",
    "- 56- 60) верблюд, крупный рогатый скот, шимпанзе, слон, кенгуру\n",
    "- 61-65) лиса, дикобраз, опоссум, енот, скунс\n",
    "- 66-70) краб, омар, улитка, паук, червяк\n",
    "- 71-75) малыш, мальчик, девочка, мужчина, женщина\n",
    "- 76-80) крокодил, динозавр, ящерица, змея, черепаха\n",
    "- 81-85) хомяк, мышь, кролик, землеройка, белка\n",
    "- 86-90) клен, дуб, пальма, сосна, ива\n",
    "- 91-95) велосипед, автобус, мотоцикл, пикап грузовик, поезд\n",
    "- 96-100) газонокосилка, ракета, трамвай, танк, трактор\n",
    "\n",
    "Список 20 групп (superclasses):\n",
    "- 1) водные млекопитающие (классы 1-5)\n",
    "- 2) рыбы (классы 6-10)\n",
    "- 3) цветы (классы 11-15)\n",
    "- 4) контейнеры для пищевых продуктов (классы 16-20)\n",
    "- 5) фрукты и овощи (классы 21-25)\n",
    "- 6) бытовые электроприборы (классы 26-30)\n",
    "- 7) бытовая мебель (классы 31-35)\n",
    "- 8) насекомые (классы 36-40)\n",
    "- 9) крупные хищники (классы 41-45)\n",
    "- 10) крупные искусственные уличные предметы (классы 46-50)\n",
    "- 11) крупные природные уличные сцены (классы 51-55)\n",
    "- 12) крупные всеядные и травоядные (классы 56-60)\n",
    "- 13) млекопитающие среднего размера (классы 61-65)\n",
    "- 14) не -насекомые беспозвоночные (классы 66-70)\n",
    "- 15) люди (классы 71-75)\n",
    "- 16) пресмыкающиеся (классы 76-80)\n",
    "- 17) мелкие млекопитающие (классы 81-85)\n",
    "- 18) деревья (классы 86-90)\n",
    "- 19) транспортные средства 1 (классы 91-95)\n",
    "- 20) автомобили 2 (классы 96-100)"
   ]
  },
  {
   "cell_type": "markdown",
   "id": "6a1bd96f",
   "metadata": {
    "id": "6a1bd96f"
   },
   "source": [
    "# 2 Исследование и прототипирование\n",
    "\n",
    "## 2.1 Загрузка набора данных"
   ]
  },
  {
   "cell_type": "code",
   "execution_count": 23,
   "id": "1f175b5a",
   "metadata": {
    "id": "1f175b5a"
   },
   "outputs": [],
   "source": [
    "# Для начала импортируем необходимые библиотеки\n",
    "import pandas as pd\n",
    "import numpy as np\n",
    "import seaborn as sns\n",
    "import matplotlib.pyplot as plt\n",
    "import csv\n",
    "import random\n",
    "import pickle\n",
    "\n",
    "# Настроим параметры отображения таблиц\n",
    "pd.set_option('display.max_rows', None)     # выводит 5 первых и 5 последних строк при значении 10\n",
    "                                            # None позволяет выводить все строки\n",
    "pd.set_option('display.max_columns', None)  # работает как и предыдущий (здесь мы выводим все колонки)\n",
    "pd.set_option('display.max_colwidth', None) # если в ячейке есть текст, то он не будет обрезаться и отобразится полностью\n",
    "pd.set_option('display.precision', 3)       # ограничивает все значения 3 символами после запятой.\n",
    "                                                  # Например 1.256e+2 вместо 1.2354834254e+2\n",
    "pd.options.display.float_format = '{:.3f}'.format # преобразует все значения из степенного вида в целые\n",
    "                                                  # Например 1.256e+2 станет 125.600"
   ]
  },
  {
   "cell_type": "code",
   "execution_count": 24,
   "id": "83181898",
   "metadata": {
    "id": "83181898"
   },
   "outputs": [],
   "source": [
    "# Загрузка данных\n",
    "\n",
    "# Функция, используемая для открытия каждого файла:\n",
    "def unpickle(file):\n",
    "    import pickle\n",
    "    with open(file, 'rb') as fo:\n",
    "        dict = pickle.load(fo, encoding='bytes')\n",
    "    return dict"
   ]
  },
  {
   "cell_type": "code",
   "execution_count": 25,
   "id": "ngAqj3lobFJl",
   "metadata": {
    "colab": {
     "base_uri": "https://localhost:8080/"
    },
    "id": "ngAqj3lobFJl",
    "outputId": "582289cc-fffa-41d3-fac9-961c7839c7fd"
   },
   "outputs": [],
   "source": [
    "# # Вариант 1 - загрузка с google-диска\n",
    "\n",
    "# from google.colab import drive\n",
    "# drive.mount('/content/gdrive', force_remount=True)\n",
    "\n",
    "# # Считываем метаданные данного набора данных\n",
    "# metadata_path = r'/content/gdrive/MyDrive/data/meta'\n",
    "# metadata = unpickle(metadata_path)\n",
    "# meta = metadata[b'coarse_label_names']\n",
    "# superclass_dict = dict(list(enumerate(metadata[b'coarse_label_names'])))\n",
    "\n",
    "# # Указываем путь к нашим данным \n",
    "# # Набор из 50000 картинок 'train' примем за первоначальный набор, который далее будем разделять на train, val, test.\n",
    "# data_path = '/content/gdrive/MyDrive/data/train'\n",
    "# data_dict = unpickle(data_path)"
   ]
  },
  {
   "cell_type": "code",
   "execution_count": 26,
   "id": "4c536797",
   "metadata": {},
   "outputs": [],
   "source": [
    "# Вариант 2 - загрузка с компа\n",
    "\n",
    "# Считываем метаданные данного набора данных\n",
    "metadata_path = r\"C:\\texlive5\\phd\\DataScience_Study\\My_Project_Animals\\Dataset\\meta\" \n",
    "metadata = unpickle(metadata_path)\n",
    "meta = metadata[b'coarse_label_names']\n",
    "superclass_dict = dict(list(enumerate(metadata[b'coarse_label_names'])))\n",
    "\n",
    "# Определяем набор данных (группы - superclasses):\n",
    "data_train_path = r\"C:\\texlive5\\phd\\DataScience_Study\\My_Project_Animals\\Dataset\\train\"  \n",
    "data_train_dict = unpickle(data_train_path)\n",
    "\n",
    "data_test_path = r\"C:\\texlive5\\phd\\DataScience_Study\\My_Project_Animals\\Dataset\\test\"  \n",
    "data_test_dict = unpickle(data_test_path)"
   ]
  },
  {
   "cell_type": "code",
   "execution_count": 39,
   "id": "a813e612",
   "metadata": {},
   "outputs": [],
   "source": [
    "# Получаем данные, разбитые по 20 группам 'coarse_labels'\n",
    "X_train = data_train_dict[b'data']\n",
    "y_train = np.array(data_train_dict[b'coarse_labels'])\n",
    "\n",
    "X_test = data_test_dict[b'data']\n",
    "y_test = np.array(data_test_dict[b'coarse_labels'])"
   ]
  },
  {
   "cell_type": "code",
   "execution_count": 40,
   "id": "5c441f1b",
   "metadata": {},
   "outputs": [
    {
     "data": {
      "text/plain": [
       "(array([[255, 255, 255, ...,  10,  59,  79],\n",
       "        [255, 253, 253, ..., 253, 253, 255],\n",
       "        [250, 248, 247, ..., 194, 207, 228],\n",
       "        ...,\n",
       "        [248, 240, 236, ..., 180, 174, 205],\n",
       "        [156, 151, 151, ..., 114, 107, 126],\n",
       "        [ 31,  30,  31, ...,  72,  69,  67]], dtype=uint8),\n",
       " array([11, 15,  4, ...,  8,  7,  1]))"
      ]
     },
     "execution_count": 40,
     "metadata": {},
     "output_type": "execute_result"
    }
   ],
   "source": [
    "# Посмотрим, что представляют из собой сформированные данные\n",
    "# x_data - массив из значений от 0 до 255\n",
    "# y_data - массив из числовых значений групп изображений (от 0 до 19)\n",
    "X_train, y_train"
   ]
  },
  {
   "cell_type": "code",
   "execution_count": 41,
   "id": "a249bfa8",
   "metadata": {
    "colab": {
     "base_uri": "https://localhost:8080/"
    },
    "id": "a249bfa8",
    "outputId": "c83f4624-7bd6-476d-9229-d17de5813b18"
   },
   "outputs": [
    {
     "data": {
      "text/plain": [
       "[b'aquatic_mammals',\n",
       " b'fish',\n",
       " b'flowers',\n",
       " b'food_containers',\n",
       " b'fruit_and_vegetables',\n",
       " b'household_electrical_devices',\n",
       " b'household_furniture',\n",
       " b'insects',\n",
       " b'large_carnivores',\n",
       " b'large_man-made_outdoor_things',\n",
       " b'large_natural_outdoor_scenes',\n",
       " b'large_omnivores_and_herbivores',\n",
       " b'medium_mammals',\n",
       " b'non-insect_invertebrates',\n",
       " b'people',\n",
       " b'reptiles',\n",
       " b'small_mammals',\n",
       " b'trees',\n",
       " b'vehicles_1',\n",
       " b'vehicles_2']"
      ]
     },
     "execution_count": 41,
     "metadata": {},
     "output_type": "execute_result"
    }
   ],
   "source": [
    "# Посмотрим, что включают в себя метаданные 'групп' (superclasses) изображений нашего набора данных\n",
    "meta"
   ]
  },
  {
   "cell_type": "code",
   "execution_count": 42,
   "id": "5ed3f3bb",
   "metadata": {
    "colab": {
     "base_uri": "https://localhost:8080/"
    },
    "id": "5ed3f3bb",
    "outputId": "09b1eb02-2892-442a-fddb-9183cff0afd6"
   },
   "outputs": [
    {
     "data": {
      "text/plain": [
       "((50000, 3072), (50000,))"
      ]
     },
     "execution_count": 42,
     "metadata": {},
     "output_type": "execute_result"
    }
   ],
   "source": [
    "# Посмотрим размерность датасета\n",
    "# Набор данных состоит из 50000 изображений, каждое из которых имеет размерность 3072 (32х32х3)\n",
    "X_train.shape, y_train.shape"
   ]
  },
  {
   "cell_type": "markdown",
   "id": "2e912c1c",
   "metadata": {
    "id": "2e912c1c"
   },
   "source": [
    "## 2.2 Преобразование данных"
   ]
  },
  {
   "cell_type": "markdown",
   "id": "4a39d83d",
   "metadata": {
    "id": "4a39d83d"
   },
   "source": [
    "В качестве данных в нашу модель будут подаваться следующие характеристики:  \n",
    "1) Количество пикселей - 32х32, итого 1024 пикселей.\n",
    "2) Интенсивность цвета в каждом из пикселей."
   ]
  },
  {
   "cell_type": "code",
   "execution_count": 43,
   "id": "71ee1654",
   "metadata": {
    "id": "71ee1654"
   },
   "outputs": [],
   "source": [
    "#Переопределим наши данные в формат 32х32х3 (ширина, высота, глубина),\n",
    "#где 3 - глубина (количество цветовых каналов — red, green, blue)\n",
    "X_train = X_train.reshape(len(X_train), 3, 32, 32)\n",
    "X_test = X_test.reshape(len(X_test), 3, 32, 32)"
   ]
  },
  {
   "cell_type": "code",
   "execution_count": 44,
   "id": "9b6f0e06",
   "metadata": {},
   "outputs": [],
   "source": [
    "# Также поменяем расположение входных данных\n",
    "X_train = X_train.transpose(0, 2, 3, 1)\n",
    "X_test = X_test.transpose(0, 2, 3, 1)"
   ]
  },
  {
   "cell_type": "code",
   "execution_count": 45,
   "id": "3034574f",
   "metadata": {
    "colab": {
     "base_uri": "https://localhost:8080/"
    },
    "id": "3034574f",
    "outputId": "863551e7-8116-47cd-c8b6-8209e078a427"
   },
   "outputs": [
    {
     "data": {
      "text/plain": [
       "((50000, 32, 32, 3), (50000,))"
      ]
     },
     "execution_count": 45,
     "metadata": {},
     "output_type": "execute_result"
    }
   ],
   "source": [
    "# Посмотрим, как изменилась размерность датасета\n",
    "X_train.shape, y_train.shape"
   ]
  },
  {
   "cell_type": "code",
   "execution_count": 46,
   "id": "a454d921",
   "metadata": {
    "id": "a454d921"
   },
   "outputs": [],
   "source": [
    "# Учитывая, что входными параметрами цветных изображений являются пиксели в достаточно широком диапазоне,\n",
    "# целесообразно нормализовать данные, разделив все значения на 255\n",
    "# Для этого нам сначала нужно перевести данные в формат с плавающей запятой,\n",
    "# поскольку в настоящее время они являются целыми числами.\n",
    "X_train = X_train.astype('float32')\n",
    "X_test = X_test.astype('float32')"
   ]
  },
  {
   "cell_type": "code",
   "execution_count": 47,
   "id": "9cf0ef7d",
   "metadata": {
    "id": "9cf0ef7d"
   },
   "outputs": [],
   "source": [
    "# Нормализуем наши входные данные\n",
    "X_train = X_train/255.0\n",
    "X_test = X_test/255.0"
   ]
  },
  {
   "cell_type": "code",
   "execution_count": 48,
   "id": "9f97857d",
   "metadata": {
    "colab": {
     "base_uri": "https://localhost:8080/"
    },
    "id": "9f97857d",
    "outputId": "b6b29b15-5e2d-4b33-97f6-d2e792d6071e"
   },
   "outputs": [
    {
     "data": {
      "text/plain": [
       "array([[[[1.        , 1.        , 1.        ],\n",
       "         [1.        , 1.        , 1.        ],\n",
       "         [1.        , 1.        , 1.        ],\n",
       "         ...,\n",
       "         [0.7647059 , 0.8039216 , 0.75686276],\n",
       "         [0.83137256, 0.8784314 , 0.8       ],\n",
       "         [0.7137255 , 0.7607843 , 0.654902  ]],\n",
       "\n",
       "        [[1.        , 1.        , 1.        ],\n",
       "         [0.99607843, 0.99607843, 0.99607843],\n",
       "         [0.99607843, 0.99607843, 0.99607843],\n",
       "         ...,\n",
       "         [0.6666667 , 0.6901961 , 0.5882353 ],\n",
       "         [0.6313726 , 0.65882355, 0.50980395],\n",
       "         [0.57254905, 0.6039216 , 0.44313726]],\n",
       "\n",
       "        [[1.        , 1.        , 1.        ],\n",
       "         [0.99607843, 0.99607843, 0.99607843],\n",
       "         [1.        , 1.        , 1.        ],\n",
       "         ...,\n",
       "         [0.7411765 , 0.78039217, 0.6627451 ],\n",
       "         [0.6509804 , 0.69803923, 0.50980395],\n",
       "         [0.4745098 , 0.52156866, 0.34117648]],\n",
       "\n",
       "        ...,\n",
       "\n",
       "        [[0.5803922 , 0.7254902 , 0.30980393],\n",
       "         [0.5568628 , 0.7137255 , 0.22352941],\n",
       "         [0.54901963, 0.7019608 , 0.23529412],\n",
       "         ...,\n",
       "         [0.11764706, 0.06666667, 0.00392157],\n",
       "         [0.25490198, 0.24313726, 0.05882353],\n",
       "         [0.29803923, 0.3019608 , 0.07843138]],\n",
       "\n",
       "        [[0.47843137, 0.6156863 , 0.25882354],\n",
       "         [0.47058824, 0.60784316, 0.22745098],\n",
       "         [0.49411765, 0.627451  , 0.2784314 ],\n",
       "         ...,\n",
       "         [0.08627451, 0.0627451 , 0.01176471],\n",
       "         [0.38039216, 0.4392157 , 0.21960784],\n",
       "         [0.5529412 , 0.6313726 , 0.34117648]],\n",
       "\n",
       "        [[0.34117648, 0.47843137, 0.16078432],\n",
       "         [0.34509805, 0.47843137, 0.15294118],\n",
       "         [0.39607844, 0.5254902 , 0.21960784],\n",
       "         ...,\n",
       "         [0.13333334, 0.14117648, 0.03921569],\n",
       "         [0.4117647 , 0.52156866, 0.23137255],\n",
       "         [0.5411765 , 0.6784314 , 0.30980393]]],\n",
       "\n",
       "\n",
       "       [[[1.        , 1.        , 1.        ],\n",
       "         [0.99215686, 0.99215686, 0.99215686],\n",
       "         [0.99215686, 0.99215686, 0.99215686],\n",
       "         ...,\n",
       "         [0.99215686, 0.99215686, 0.99215686],\n",
       "         [0.99215686, 0.99215686, 0.99215686],\n",
       "         [1.        , 1.        , 1.        ]],\n",
       "\n",
       "        [[1.        , 1.        , 1.        ],\n",
       "         [1.        , 1.        , 1.        ],\n",
       "         [1.        , 1.        , 1.        ],\n",
       "         ...,\n",
       "         [1.        , 1.        , 1.        ],\n",
       "         [1.        , 1.        , 1.        ],\n",
       "         [1.        , 1.        , 1.        ]],\n",
       "\n",
       "        [[1.        , 1.        , 1.        ],\n",
       "         [1.        , 1.        , 1.        ],\n",
       "         [1.        , 1.        , 1.        ],\n",
       "         ...,\n",
       "         [1.        , 1.        , 1.        ],\n",
       "         [1.        , 1.        , 1.        ],\n",
       "         [1.        , 1.        , 1.        ]],\n",
       "\n",
       "        ...,\n",
       "\n",
       "        [[1.        , 1.        , 1.        ],\n",
       "         [1.        , 1.        , 1.        ],\n",
       "         [1.        , 1.        , 1.        ],\n",
       "         ...,\n",
       "         [1.        , 1.        , 1.        ],\n",
       "         [1.        , 1.        , 1.        ],\n",
       "         [1.        , 1.        , 1.        ]],\n",
       "\n",
       "        [[1.        , 1.        , 1.        ],\n",
       "         [1.        , 1.        , 1.        ],\n",
       "         [1.        , 1.        , 1.        ],\n",
       "         ...,\n",
       "         [1.        , 1.        , 1.        ],\n",
       "         [1.        , 1.        , 1.        ],\n",
       "         [1.        , 1.        , 1.        ]],\n",
       "\n",
       "        [[1.        , 1.        , 1.        ],\n",
       "         [0.99215686, 0.99215686, 0.99215686],\n",
       "         [0.99215686, 0.99215686, 0.99215686],\n",
       "         ...,\n",
       "         [0.99215686, 0.99215686, 0.99215686],\n",
       "         [0.99215686, 0.99215686, 0.99215686],\n",
       "         [1.        , 1.        , 1.        ]]],\n",
       "\n",
       "\n",
       "       [[[0.98039216, 0.98039216, 0.972549  ],\n",
       "         [0.972549  , 0.9764706 , 0.9529412 ],\n",
       "         [0.96862745, 0.972549  , 0.9372549 ],\n",
       "         ...,\n",
       "         [0.98039216, 0.98039216, 0.9647059 ],\n",
       "         [0.98039216, 0.98039216, 0.9647059 ],\n",
       "         [0.9764706 , 0.98039216, 0.9647059 ]],\n",
       "\n",
       "        [[0.98039216, 0.9843137 , 0.9607843 ],\n",
       "         [0.972549  , 0.9764706 , 0.93333334],\n",
       "         [0.96862745, 0.96862745, 0.91764706],\n",
       "         ...,\n",
       "         [0.9843137 , 0.9843137 , 0.9490196 ],\n",
       "         [0.9843137 , 0.9882353 , 0.9529412 ],\n",
       "         [0.98039216, 0.9843137 , 0.9529412 ]],\n",
       "\n",
       "        [[0.9843137 , 0.9843137 , 0.95686275],\n",
       "         [0.98039216, 0.972549  , 0.92941177],\n",
       "         [0.98039216, 0.9607843 , 0.9137255 ],\n",
       "         ...,\n",
       "         [0.98039216, 0.9764706 , 0.93333334],\n",
       "         [0.98039216, 0.9764706 , 0.9411765 ],\n",
       "         [0.98039216, 0.9764706 , 0.9490196 ]],\n",
       "\n",
       "        ...,\n",
       "\n",
       "        [[0.8666667 , 0.8352941 , 0.7490196 ],\n",
       "         [0.8666667 , 0.80784315, 0.6901961 ],\n",
       "         [0.88235295, 0.8117647 , 0.70980394],\n",
       "         ...,\n",
       "         [0.78039217, 0.6901961 , 0.5254902 ],\n",
       "         [0.8117647 , 0.75686276, 0.64705884],\n",
       "         [0.9137255 , 0.8980392 , 0.8862745 ]],\n",
       "\n",
       "        [[0.88235295, 0.8745098 , 0.8       ],\n",
       "         [0.8901961 , 0.85882354, 0.76862746],\n",
       "         [0.8980392 , 0.84705883, 0.78431374],\n",
       "         ...,\n",
       "         [0.8       , 0.7254902 , 0.5921569 ],\n",
       "         [0.83137256, 0.7882353 , 0.7058824 ],\n",
       "         [0.91764706, 0.9098039 , 0.89411765]],\n",
       "\n",
       "        [[0.9137255 , 0.9137255 , 0.8862745 ],\n",
       "         [0.91764706, 0.9098039 , 0.8784314 ],\n",
       "         [0.92156863, 0.9019608 , 0.88235295],\n",
       "         ...,\n",
       "         [0.85882354, 0.81960785, 0.7607843 ],\n",
       "         [0.8745098 , 0.84705883, 0.8117647 ],\n",
       "         [0.9098039 , 0.9019608 , 0.89411765]]],\n",
       "\n",
       "\n",
       "       ...,\n",
       "\n",
       "\n",
       "       [[[0.972549  , 0.95686275, 0.9490196 ],\n",
       "         [0.9411765 , 0.9098039 , 0.8745098 ],\n",
       "         [0.9254902 , 0.9098039 , 0.8745098 ],\n",
       "         ...,\n",
       "         [0.9137255 , 0.8980392 , 0.87058824],\n",
       "         [0.9019608 , 0.89411765, 0.87058824],\n",
       "         [0.93333334, 0.92941177, 0.9137255 ]],\n",
       "\n",
       "        [[0.88235295, 0.8352941 , 0.8       ],\n",
       "         [0.7294118 , 0.654902  , 0.58431375],\n",
       "         [0.6862745 , 0.62352943, 0.54901963],\n",
       "         ...,\n",
       "         [0.6392157 , 0.5803922 , 0.5254902 ],\n",
       "         [0.6117647 , 0.5647059 , 0.52156866],\n",
       "         [0.7529412 , 0.72156864, 0.6901961 ]],\n",
       "\n",
       "        [[0.81960785, 0.7607843 , 0.7019608 ],\n",
       "         [0.5647059 , 0.47058824, 0.37254903],\n",
       "         [0.54509807, 0.4509804 , 0.34117648],\n",
       "         ...,\n",
       "         [0.42745098, 0.3372549 , 0.2627451 ],\n",
       "         [0.42745098, 0.3529412 , 0.29803923],\n",
       "         [0.6156863 , 0.5686275 , 0.5294118 ]],\n",
       "\n",
       "        ...,\n",
       "\n",
       "        [[0.6313726 , 0.62352943, 0.6       ],\n",
       "         [0.15294118, 0.13333334, 0.10980392],\n",
       "         [0.10980392, 0.07843138, 0.05490196],\n",
       "         ...,\n",
       "         [0.3647059 , 0.28235295, 0.20784314],\n",
       "         [0.33333334, 0.2627451 , 0.19607843],\n",
       "         [0.53333336, 0.49411765, 0.4509804 ]],\n",
       "\n",
       "        [[0.70980394, 0.7019608 , 0.6745098 ],\n",
       "         [0.3372549 , 0.3254902 , 0.3019608 ],\n",
       "         [0.2784314 , 0.26666668, 0.24313726],\n",
       "         ...,\n",
       "         [0.47843137, 0.40392157, 0.34901962],\n",
       "         [0.4117647 , 0.36078432, 0.32156864],\n",
       "         [0.5921569 , 0.5686275 , 0.5529412 ]],\n",
       "\n",
       "        [[0.8784314 , 0.8745098 , 0.85490197],\n",
       "         [0.7058824 , 0.7058824 , 0.6862745 ],\n",
       "         [0.6784314 , 0.6745098 , 0.654902  ],\n",
       "         ...,\n",
       "         [0.76862746, 0.73333335, 0.7058824 ],\n",
       "         [0.7176471 , 0.69803923, 0.68235296],\n",
       "         [0.8       , 0.8039216 , 0.8039216 ]]],\n",
       "\n",
       "\n",
       "       [[[0.6117647 , 0.6039216 , 0.5372549 ],\n",
       "         [0.5921569 , 0.57254905, 0.48235294],\n",
       "         [0.5921569 , 0.5647059 , 0.49019608],\n",
       "         ...,\n",
       "         [0.60784316, 0.5882353 , 0.5058824 ],\n",
       "         [0.59607846, 0.5803922 , 0.49019608],\n",
       "         [0.7294118 , 0.72156864, 0.6392157 ]],\n",
       "\n",
       "        [[0.43137255, 0.41568628, 0.3019608 ],\n",
       "         [0.45490196, 0.42352942, 0.24313726],\n",
       "         [0.44705883, 0.39607844, 0.22352941],\n",
       "         ...,\n",
       "         [0.45490196, 0.41568628, 0.23921569],\n",
       "         [0.43529412, 0.40392157, 0.21960784],\n",
       "         [0.5254902 , 0.5058824 , 0.36078432]],\n",
       "\n",
       "        [[0.45490196, 0.4392157 , 0.32156864],\n",
       "         [0.4862745 , 0.4627451 , 0.25882354],\n",
       "         [0.5019608 , 0.4627451 , 0.2627451 ],\n",
       "         ...,\n",
       "         [0.3882353 , 0.32941177, 0.16862746],\n",
       "         [0.39607844, 0.34117648, 0.16862746],\n",
       "         [0.5058824 , 0.4627451 , 0.3372549 ]],\n",
       "\n",
       "        ...,\n",
       "\n",
       "        [[0.42745098, 0.39607844, 0.2901961 ],\n",
       "         [0.4392157 , 0.39215687, 0.21176471],\n",
       "         [0.4627451 , 0.4117647 , 0.24313726],\n",
       "         ...,\n",
       "         [0.49411765, 0.44313726, 0.25490198],\n",
       "         [0.49411765, 0.43529412, 0.23921569],\n",
       "         [0.5411765 , 0.4862745 , 0.34901962]],\n",
       "\n",
       "        [[0.38431373, 0.36078432, 0.24705882],\n",
       "         [0.3647059 , 0.32156864, 0.13725491],\n",
       "         [0.3764706 , 0.3254902 , 0.14901961],\n",
       "         ...,\n",
       "         [0.4392157 , 0.3764706 , 0.18431373],\n",
       "         [0.42745098, 0.36078432, 0.1764706 ],\n",
       "         [0.49803922, 0.44313726, 0.3137255 ]],\n",
       "\n",
       "        [[0.6666667 , 0.654902  , 0.5686275 ],\n",
       "         [0.627451  , 0.6       , 0.4627451 ],\n",
       "         [0.6392157 , 0.59607846, 0.46666667],\n",
       "         ...,\n",
       "         [0.6313726 , 0.5921569 , 0.44705883],\n",
       "         [0.6117647 , 0.5647059 , 0.41960785],\n",
       "         [0.6392157 , 0.6039216 , 0.49411765]]],\n",
       "\n",
       "\n",
       "       [[[0.12156863, 0.2627451 , 0.47843137],\n",
       "         [0.11764706, 0.26666668, 0.4862745 ],\n",
       "         [0.12156863, 0.27058825, 0.49411765],\n",
       "         ...,\n",
       "         [0.1254902 , 0.27450982, 0.5058824 ],\n",
       "         [0.1254902 , 0.27450982, 0.49019608],\n",
       "         [0.1254902 , 0.27058825, 0.47843137]],\n",
       "\n",
       "        [[0.11372549, 0.26666668, 0.49411765],\n",
       "         [0.10980392, 0.27058825, 0.5019608 ],\n",
       "         [0.11764706, 0.27058825, 0.50980395],\n",
       "         ...,\n",
       "         [0.1254902 , 0.27450982, 0.5137255 ],\n",
       "         [0.1254902 , 0.27058825, 0.49803922],\n",
       "         [0.12156863, 0.27058825, 0.4862745 ]],\n",
       "\n",
       "        [[0.11764706, 0.2627451 , 0.49411765],\n",
       "         [0.11372549, 0.26666668, 0.5019608 ],\n",
       "         [0.11764706, 0.27058825, 0.50980395],\n",
       "         ...,\n",
       "         [0.1254902 , 0.28235295, 0.5176471 ],\n",
       "         [0.12156863, 0.27450982, 0.50980395],\n",
       "         [0.11764706, 0.27058825, 0.49803922]],\n",
       "\n",
       "        ...,\n",
       "\n",
       "        [[0.15294118, 0.16078432, 0.29803923],\n",
       "         [0.14901961, 0.16470589, 0.29803923],\n",
       "         [0.14901961, 0.17254902, 0.30588236],\n",
       "         ...,\n",
       "         [0.15294118, 0.17254902, 0.30980393],\n",
       "         [0.14901961, 0.16470589, 0.3019608 ],\n",
       "         [0.15294118, 0.16078432, 0.29803923]],\n",
       "\n",
       "        [[0.15686275, 0.15294118, 0.28627452],\n",
       "         [0.15294118, 0.15686275, 0.2901961 ],\n",
       "         [0.15294118, 0.16078432, 0.29803923],\n",
       "         ...,\n",
       "         [0.15294118, 0.16078432, 0.29803923],\n",
       "         [0.15686275, 0.16078432, 0.2901961 ],\n",
       "         [0.15686275, 0.15294118, 0.28627452]],\n",
       "\n",
       "        [[0.15686275, 0.15294118, 0.27450982],\n",
       "         [0.15686275, 0.15294118, 0.2784314 ],\n",
       "         [0.15686275, 0.15294118, 0.28235295],\n",
       "         ...,\n",
       "         [0.16078432, 0.14901961, 0.28235295],\n",
       "         [0.15294118, 0.14901961, 0.27058825],\n",
       "         [0.15686275, 0.14509805, 0.2627451 ]]]], dtype=float32)"
      ]
     },
     "execution_count": 48,
     "metadata": {},
     "output_type": "execute_result"
    }
   ],
   "source": [
    "# Проверим, как изменились наши данные\n",
    "# Очевидно, что полученные нормализованные данные находятся в диапазоне от 0 до 1\n",
    "X_train"
   ]
  },
  {
   "cell_type": "markdown",
   "id": "730739fd",
   "metadata": {
    "id": "730739fd"
   },
   "source": [
    "## 2.3 Визуализация"
   ]
  },
  {
   "cell_type": "code",
   "execution_count": 49,
   "id": "751a67e1",
   "metadata": {
    "id": "751a67e1",
    "outputId": "0199aa49-66a2-489b-a2eb-13698eebacf6"
   },
   "outputs": [
    {
     "data": {
      "image/png": "[encoded data removed]",
      "text/plain": [
       "<Figure size 1000x1000 with 16 Axes>"
      ]
     },
     "metadata": {},
     "output_type": "display_data"
    }
   ],
   "source": [
    "# Назначаем количество групп (superclasses)\n",
    "nclass = 20\n",
    "# Приведем значения групп (superclasses) к двоичной классификации\n",
    "# Используем команду numpy.eye, которая возвращает двумерный массив с единицами по диагонали \n",
    "# и нулями в остальных значениях матрицы.\n",
    "y_train_cat = np.eye(nclass)[y_train]\n",
    "\n",
    "\n",
    "fig, axs = plt.subplots(4, 4, figsize=(10, 10))\n",
    "\n",
    "for i in range(4*4):\n",
    "    rand = random.randint(0, len(X_train))\n",
    "    ax = axs[i // 4, i % 4]\n",
    "    ax.imshow(X_train[rand])\n",
    "    ax.set_title(meta[np.argmax(y_train_cat[rand])].decode(\"utf-8\"))\n",
    "\n",
    "plt.tight_layout()\n",
    "plt.show()"
   ]
  },
  {
   "cell_type": "markdown",
   "id": "8fa42d2d",
   "metadata": {},
   "source": [
    "## 2.4 Прототип модели"
   ]
  },
  {
   "cell_type": "markdown",
   "id": "d832053d",
   "metadata": {},
   "source": [
    "1) Определить подходящие для задачи модели и обучить их\n",
    "2) Выбрать наилучшую модель, на которой провести кросс-валидацию и настройку гипер-параметров"
   ]
  },
  {
   "cell_type": "code",
   "execution_count": 53,
   "id": "138f8080",
   "metadata": {},
   "outputs": [],
   "source": [
    "import numpy as np\n",
    "import pandas as pd\n",
    "import matplotlib.pyplot as plt\n",
    "from sklearn.model_selection import train_test_split\n",
    "from sklearn.datasets import make_classification\n",
    "from sklearn.linear_model import LogisticRegression\n",
    "from sklearn.neighbors import KNeighborsClassifier\n",
    "from sklearn.tree import DecisionTreeClassifier\n",
    "from sklearn.ensemble import RandomForestClassifier, GradientBoostingClassifier\n",
    "from sklearn.metrics import accuracy_score, precision_score, recall_score, f1_score, confusion_matrix, roc_auc_score\n",
    "from xgboost import XGBClassifier\n",
    "from lightgbm import LGBMClassifier\n",
    "from catboost import CatBoostClassifier"
   ]
  },
  {
   "cell_type": "code",
   "execution_count": null,
   "id": "e3635568",
   "metadata": {},
   "outputs": [],
   "source": [
    "# Инициализация моделей\n",
    "models = {\n",
    "    \"Логистическая регрессия\": LogisticRegression(max_iter=1000),\n",
    "    \"K-ближайших соседей\": KNeighborsClassifier(),\n",
    "    \"Решающее дерево\": DecisionTreeClassifier(),\n",
    "    \"Случайный лес\": RandomForestClassifier(),\n",
    "    \"Градиентный бустинг\": GradientBoostingClassifier(),\n",
    "    \"XGBClassifier\": XGBClassifier(use_label_encoder=False, eval_metric='logloss'),\n",
    "    \"LGBMClassifier\": LGBMClassifier(),\n",
    "    \"CatBoostClassifier\": CatBoostClassifier(verbose=0)\n",
    "}"
   ]
  },
  {
   "cell_type": "code",
   "execution_count": 55,
   "id": "1da3f29c",
   "metadata": {},
   "outputs": [],
   "source": [
    "# # Для хранения результатов\n",
    "# results = {}\n",
    "\n",
    "# colors = ['blue', 'green', 'red', 'purple', 'darkgoldenrod']  # Цвета для каждого класса\n",
    "\n",
    "# # Визуализация границ решений для каждой модели\n",
    "# for name, model in models.items():\n",
    "    \n",
    "#     # Обучение модели и получение предсказаний для каждой точки в сетке\n",
    "#     model.fit(X_train, y_train)\n",
    "#     Z = model.predict(np.c_[xx.ravel(), yy.ravel()])\n",
    "#     Z = Z.reshape(xx.shape)\n",
    "\n",
    "#     y_pred = model.predict(X_test)\n",
    "#     y_prob = model.predict_proba(X_test)\n",
    "\n",
    "#     accuracy = accuracy_score(y_test, y_pred)\n",
    "#     precision = precision_score(y_test, y_pred, average='macro')\n",
    "#     recall = recall_score(y_test, y_pred, average='macro')\n",
    "#     f1 = f1_score(y_test, y_pred, average='macro')\n",
    "#     roc_auc = roc_auc_score(y_test, y_prob, multi_class='ovr')\n",
    "\n",
    "#     results[name] = {\n",
    "#         \"Accuracy\": accuracy,\n",
    "#         \"Precision\": precision,\n",
    "#         \"Recall\": recall,\n",
    "#         \"F1 Score\": f1,\n",
    "#         \"roc_auc\": roc_auc\n",
    "#     }\n",
    "\n",
    "# results_df = pd.DataFrame.from_dict(results, orient='index')\n",
    "# display(results_df.sort_values(['Accuracy', 'F1 Score'], ascending=False))"
   ]
  },
  {
   "cell_type": "markdown",
   "id": "c430f5d1",
   "metadata": {},
   "source": [
    "# 3 Разработка модели и валидация"
   ]
  },
  {
   "cell_type": "markdown",
   "id": "a2898f5c",
   "metadata": {},
   "source": [
    "## 3.1 Кросс-валидация"
   ]
  },
  {
   "cell_type": "code",
   "execution_count": null,
   "id": "XAtP5Fg1ZT_1",
   "metadata": {
    "id": "XAtP5Fg1ZT_1"
   },
   "outputs": [],
   "source": [
    "# # Кросс-валидация - разбивка на k частей (в данном случае 5 частей).\n",
    "# # На четырех частях будет производится обучение модели, а последняя часть будет использоваться для тестирования.\n",
    "# # Кросс-валидация будет проходить только на тренировочных данных\n",
    "\n",
    "# rf = CatBoostClassifier(verbose=0)\n",
    "\n",
    "# scores = cross_val_score(rf, x_train, y_train, cv=5)\n"
   ]
  },
  {
   "cell_type": "code",
   "execution_count": null,
   "id": "dPb_mZkbZboO",
   "metadata": {
    "colab": {
     "base_uri": "https://localhost:8080/"
    },
    "id": "dPb_mZkbZboO",
    "outputId": "7cc38942-1971-4698-fb89-24e1bbfce8da"
   },
   "outputs": [
    {
     "data": {
      "text/plain": [
       "array([0.34453125, 0.35109375, 0.34984375, 0.35578125, 0.36015625])"
      ]
     },
     "execution_count": 40,
     "metadata": {},
     "output_type": "execute_result"
    }
   ],
   "source": [
    "scores"
   ]
  },
  {
   "cell_type": "markdown",
   "id": "84d52631",
   "metadata": {
    "id": "338e91e8"
   },
   "source": [
    "## 3.2 Настройка гиперпараметров"
   ]
  },
  {
   "cell_type": "code",
   "execution_count": null,
   "id": "f3f870c6",
   "metadata": {
    "id": "f3f870c6"
   },
   "outputs": [],
   "source": []
  },
  {
   "cell_type": "markdown",
   "id": "27f9a2fc",
   "metadata": {},
   "source": [
    "## 3.3 Окончательная версия модели"
   ]
  },
  {
   "cell_type": "code",
   "execution_count": null,
   "id": "231acdd4",
   "metadata": {},
   "outputs": [],
   "source": []
  }
 ],
 "metadata": {
  "colab": {
   "provenance": []
  },
  "kernelspec": {
   "display_name": "Python 3 (ipykernel)",
   "language": "python",
   "name": "python3"
  },
  "language_info": {
   "codemirror_mode": {
    "name": "ipython",
    "version": 3
   },
   "file_extension": ".py",
   "mimetype": "text/x-python",
   "name": "python",
   "nbconvert_exporter": "python",
   "pygments_lexer": "ipython3",
   "version": "3.11.5"
  }
 },
 "nbformat": 4,
 "nbformat_minor": 5
}
