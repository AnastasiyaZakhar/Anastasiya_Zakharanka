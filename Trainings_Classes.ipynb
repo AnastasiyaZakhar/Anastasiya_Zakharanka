{
 "cells": [
  {
   "cell_type": "code",
   "execution_count": 60,
   "id": "8821812b",
   "metadata": {},
   "outputs": [],
   "source": [
    "class House():\n",
    "    \"\"\"описание дома\"\"\"\n",
    "    def __init__(self, street, number):\n",
    "        \"\"\"свойства дома\"\"\"\n",
    "        self.street = street\n",
    "        self.number = number\n",
    "        self.age = 0\n",
    "    def build(self):\n",
    "        \"\"\"строит дом\"\"\"\n",
    "        print(\"Дом на улице \" + self.street + \" под номером \" + str(self.number) + \" построен.\")\n",
    "    def age_of_house(self, year):\n",
    "        \"\"\"возраст дома\"\"\"\n",
    "        self.age += year"
   ]
  },
  {
   "cell_type": "code",
   "execution_count": 61,
   "id": "f89ee989",
   "metadata": {},
   "outputs": [],
   "source": [
    "House1 = House(\"Московская\", 20)\n",
    "House2 = House(\"Московская\", 21)"
   ]
  },
  {
   "cell_type": "code",
   "execution_count": 62,
   "id": "79d4f8c1",
   "metadata": {},
   "outputs": [
    {
     "name": "stdout",
     "output_type": "stream",
     "text": [
      "21\n"
     ]
    }
   ],
   "source": [
    "print(House2.number)"
   ]
  },
  {
   "cell_type": "code",
   "execution_count": 63,
   "id": "fbd00774",
   "metadata": {},
   "outputs": [
    {
     "name": "stdout",
     "output_type": "stream",
     "text": [
      "Дом на улице Московская под номером 20 построен.\n"
     ]
    }
   ],
   "source": [
    "House1.build()"
   ]
  },
  {
   "cell_type": "code",
   "execution_count": 64,
   "id": "bd145a8a",
   "metadata": {},
   "outputs": [
    {
     "name": "stdout",
     "output_type": "stream",
     "text": [
      "0\n"
     ]
    }
   ],
   "source": [
    "print(House1.age)"
   ]
  },
  {
   "cell_type": "code",
   "execution_count": 74,
   "id": "60fa418b",
   "metadata": {},
   "outputs": [
    {
     "name": "stdout",
     "output_type": "stream",
     "text": [
      "10\n"
     ]
    }
   ],
   "source": [
    "House1.age_of_house(5)\n",
    "print(House1.age)"
   ]
  },
  {
   "cell_type": "code",
   "execution_count": 81,
   "id": "3fa3f982",
   "metadata": {},
   "outputs": [
    {
     "ename": "AttributeError",
     "evalue": "'ProspectHouse' object has no attribute 'number'",
     "output_type": "error",
     "traceback": [
      "\u001b[1;31m---------------------------------------------------------------------------\u001b[0m",
      "\u001b[1;31mAttributeError\u001b[0m                            Traceback (most recent call last)",
      "Cell \u001b[1;32mIn[81], line 21\u001b[0m\n\u001b[0;32m     18\u001b[0m         \u001b[38;5;28msuper\u001b[39m()\u001b[38;5;241m.\u001b[39m\u001b[38;5;21m__init__\u001b[39m(\u001b[38;5;28mself\u001b[39m\u001b[38;5;241m.\u001b[39mnumber)\n\u001b[0;32m     19\u001b[0m         \u001b[38;5;28mself\u001b[39m\u001b[38;5;241m.\u001b[39mprospect \u001b[38;5;241m=\u001b[39m prospect\n\u001b[1;32m---> 21\u001b[0m PrHouse \u001b[38;5;241m=\u001b[39m ProspectHouse(\u001b[38;5;124m\"\u001b[39m\u001b[38;5;124mЛенина\u001b[39m\u001b[38;5;124m\"\u001b[39m, \u001b[38;5;241m5\u001b[39m)\n\u001b[0;32m     22\u001b[0m \u001b[38;5;28mprint\u001b[39m(PrHouse\u001b[38;5;241m.\u001b[39mprospect)\n",
      "Cell \u001b[1;32mIn[81], line 18\u001b[0m, in \u001b[0;36mProspectHouse.__init__\u001b[1;34m(self, prospect, number)\u001b[0m\n\u001b[0;32m     17\u001b[0m \u001b[38;5;28;01mdef\u001b[39;00m \u001b[38;5;21m__init__\u001b[39m(\u001b[38;5;28mself\u001b[39m, prospect, number):\n\u001b[1;32m---> 18\u001b[0m     \u001b[38;5;28msuper\u001b[39m()\u001b[38;5;241m.\u001b[39m\u001b[38;5;21m__init__\u001b[39m(\u001b[38;5;28mself\u001b[39m\u001b[38;5;241m.\u001b[39mnumber)\n\u001b[0;32m     19\u001b[0m     \u001b[38;5;28mself\u001b[39m\u001b[38;5;241m.\u001b[39mprospect \u001b[38;5;241m=\u001b[39m prospect\n",
      "\u001b[1;31mAttributeError\u001b[0m: 'ProspectHouse' object has no attribute 'number'"
     ]
    }
   ],
   "source": [
    "class House():\n",
    "    \"\"\"описание дома\"\"\"\n",
    "    def __init__(self, street, number):\n",
    "        \"\"\"свойства дома\"\"\"\n",
    "        self.street = street\n",
    "        self.number = number\n",
    "        self.age = 0\n",
    "    def build(self):\n",
    "        \"\"\"строит дом\"\"\"\n",
    "        print(\"Дом на улице \" + self.street + \" под номером \" + str(self.number) + \" построен.\")\n",
    "    def age_of_house(self, year):\n",
    "        \"\"\"возраст дома\"\"\"\n",
    "        self.age += year\n",
    "\n",
    "class ProspectHouse(House):\n",
    "    \"\"\"дома на проспекте\"\"\"\n",
    "    def __init__(self, prospect, number):\n",
    "        super().__init__(self.number)\n",
    "        self.prospect = prospect\n",
    "        \n",
    "PrHouse = ProspectHouse(\"Ленина\", 5)\n",
    "print(PrHouse.prospect)"
   ]
  },
  {
   "cell_type": "code",
   "execution_count": null,
   "id": "45fff218",
   "metadata": {},
   "outputs": [],
   "source": []
  }
 ],
 "metadata": {
  "kernelspec": {
   "display_name": "Python 3 (ipykernel)",
   "language": "python",
   "name": "python3"
  },
  "language_info": {
   "codemirror_mode": {
    "name": "ipython",
    "version": 3
   },
   "file_extension": ".py",
   "mimetype": "text/x-python",
   "name": "python",
   "nbconvert_exporter": "python",
   "pygments_lexer": "ipython3",
   "version": "3.11.5"
  }
 },
 "nbformat": 4,
 "nbformat_minor": 5
}
