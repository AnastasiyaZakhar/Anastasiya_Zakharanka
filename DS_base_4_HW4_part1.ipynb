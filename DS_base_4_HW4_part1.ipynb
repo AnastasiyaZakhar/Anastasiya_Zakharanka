{
 "cells": [
  {
   "cell_type": "code",
   "execution_count": 46,
   "id": "90a23b70",
   "metadata": {},
   "outputs": [
    {
     "name": "stdout",
     "output_type": "stream",
     "text": [
      "Новые строительные материалы для строительства этого объекта\n"
     ]
    }
   ],
   "source": [
    "# Задача_1 Создайте текстовый файл с данными и прочитайте его в Python\n",
    "\n",
    "# Чтение и запись текстового файла (TXT):\n",
    "import os\n",
    "\n",
    "file_path = \"New building materials.txt\"\n",
    "\n",
    "# Проверка на существование файла и создание, если он не существует\n",
    "if not os.path.exists(file_path):\n",
    "    with open(file_path, \"w\") as file:\n",
    "        file.write(\"Новые строительные материалы для строительства этого объекта\")\n",
    "\n",
    "# Чтение текстового файла\n",
    "with open(file_path, \"r\") as file:\n",
    "    content = file.read()\n",
    "    print(content)\n",
    "\n",
    "# Запись в текстовый файл\n",
    "with open(file_path, \"a\") as file:\n",
    "    file.write(\"\\nНовые строительные материалы для строительства нескольких объектов\")"
   ]
  },
  {
   "cell_type": "code",
   "execution_count": 44,
   "id": "b20e9289",
   "metadata": {},
   "outputs": [
    {
     "name": "stdout",
     "output_type": "stream",
     "text": [
      "Building materials:\n",
      "concrete\n",
      "steel\n",
      "brick\n",
      "\n",
      "Building materials:\n",
      "\n",
      "concrete\n",
      "\n",
      "steel\n",
      "\n",
      "brick\n",
      "\n",
      "['Building materials:\\n', 'concrete\\n', 'steel\\n', 'brick\\n']\n"
     ]
    }
   ],
   "source": [
    "# другие методы чтения текстового файла\n",
    "\n",
    "# метод 1\n",
    "# открываем текстовый файл только для чтения\n",
    "f = open(\"data_materials.txt\", \"r\")\n",
    "# прочитаем содержимое файла\n",
    "print(f.read())\n",
    "# закрываем файл\n",
    "f.close()\n",
    "\n",
    "# метод 2\n",
    "# открываем текстовый файл только для чтения\n",
    "f = open(\"data_materials.txt\", \"r\")\n",
    "# прочитаем содержимое файла\n",
    "line1 = f.readline()\n",
    "line2 = f.readline()\n",
    "line3 = f.readline()\n",
    "line4 = f.readline()\n",
    "print(line1)\n",
    "print(line2)\n",
    "print(line3)\n",
    "print(line4)\n",
    "# закрываем файл\n",
    "f.close()\n",
    "\n",
    "# метод 3\n",
    "# открываем текстовый файл только для чтения\n",
    "f = open(\"data_materials.txt\", \"r\")\n",
    "# прочитаем содержимое файла\n",
    "print(f.readlines())\n",
    "# закрываем файл\n",
    "f.close()"
   ]
  },
  {
   "cell_type": "code",
   "execution_count": 14,
   "id": "ccadf2e6",
   "metadata": {},
   "outputs": [
    {
     "name": "stdout",
     "output_type": "stream",
     "text": [
      "10 is of type <class 'int'>\n",
      "6\n"
     ]
    }
   ],
   "source": [
    "# Задача_2 Изучите разные типы данных в Python (int, float, str, list, dictionary) и создайте переменные разных типов\n",
    "# Целочисленные переменные - int \n",
    "x1 = 10\n",
    "print(x1, 'is of type', type(x1))\n",
    "print(int(6.7))"
   ]
  },
  {
   "cell_type": "code",
   "execution_count": 15,
   "id": "de19626d",
   "metadata": {},
   "outputs": [
    {
     "name": "stdout",
     "output_type": "stream",
     "text": [
      "56.87 is of type <class 'float'>\n",
      "6.0\n"
     ]
    }
   ],
   "source": [
    "# Числа с плавающей точкой - float\n",
    "x2 = 56.87\n",
    "print(x2, 'is of type', type(x2))\n",
    "print(float(6))"
   ]
  },
  {
   "cell_type": "code",
   "execution_count": 16,
   "id": "a7376b04",
   "metadata": {},
   "outputs": [
    {
     "name": "stdout",
     "output_type": "stream",
     "text": [
      "Building Materials is of type <class 'str'>\n"
     ]
    }
   ],
   "source": [
    "# Данные в виде строк - str\n",
    "x3 = 'Building Materials'\n",
    "print(x3, 'is of type', type(x3))"
   ]
  },
  {
   "cell_type": "code",
   "execution_count": 17,
   "id": "85ccdd3d",
   "metadata": {},
   "outputs": [
    {
     "name": "stdout",
     "output_type": "stream",
     "text": [
      "[] is of type <class 'list'>\n",
      "[34, 67, 81] is of type <class 'list'>\n",
      "['Sun', 75, 100.56] is of type <class 'list'>\n"
     ]
    }
   ],
   "source": [
    "# Данные в виде списка - list\n",
    "x4 = []\n",
    "x5 = [34, 67, 81]\n",
    "x6 = ['Sun', 75, 100.56]\n",
    "\n",
    "print(x4, 'is of type', type(x4))\n",
    "print(x5, 'is of type', type(x5))\n",
    "print(x6, 'is of type', type(x6))"
   ]
  },
  {
   "cell_type": "code",
   "execution_count": 21,
   "id": "2733f014",
   "metadata": {},
   "outputs": [
    {
     "name": "stdout",
     "output_type": "stream",
     "text": [
      "{'профессия': 'врач', 'место в забеге': 1, 'результат': 'призовое'}\n",
      "{'short': 'dict', 'long': 'dictionary'}\n"
     ]
    }
   ],
   "source": [
    "# Данные в виде словарей - dict\n",
    "dictionary_1 = {'профессия': 'врач',\n",
    "              'место в забеге': 1,\n",
    "              'результат': 'призовое'}\n",
    "print(dictionary_1)\n",
    "\n",
    "dictionary_2 = dict(short = 'dict', long = 'dictionary')\n",
    "print(dictionary_2)\n"
   ]
  },
  {
   "cell_type": "code",
   "execution_count": 32,
   "id": "caaae62c",
   "metadata": {},
   "outputs": [
    {
     "name": "stdout",
     "output_type": "stream",
     "text": [
      "23.8\n",
      "23.8\n",
      "23.8\n",
      "23.8\n",
      "23.8\n"
     ]
    }
   ],
   "source": [
    "# Задача_3 Выполните агрегацию данных (например, вычислите среднее значение чисел в списке)\n",
    "# Вычисляем среднее значение в списке\n",
    "from statistics import mean\n",
    "from functools import reduce\n",
    "import operator\n",
    "import numpy\n",
    "\n",
    "list1 = [24, 25, 28, 21, 21]\n",
    "print(mean(list1))\n",
    "print(sum(list1)/len(list1))\n",
    "print(reduce(lambda x, y: x + y, list1) /len(list1))\n",
    "print(reduce(operator.add, list1) /len(list1))\n",
    "print(numpy.average(list1))\n"
   ]
  },
  {
   "cell_type": "code",
   "execution_count": 42,
   "id": "492bd03c",
   "metadata": {},
   "outputs": [
    {
     "name": "stdout",
     "output_type": "stream",
     "text": [
      "35\n",
      "<class 'str'>\n",
      "35\n",
      "<class 'int'>\n",
      "35\n",
      "<class 'str'>\n",
      "В каком году вы родились? 2000\n",
      "24\n"
     ]
    }
   ],
   "source": [
    "# Задача_4 Преобразуйте данные из одного типа в другой (например, преобразуйте строку в число и наоборот)\n",
    "print('35')\n",
    "print(type('35'))\n",
    "print('35')\n",
    "print(type(int(('35'))))\n",
    "print('35')\n",
    "print(type(str(('35'))))\n",
    "\n",
    "# Практический пример\n",
    "current_year = 2024\n",
    "# вводим год рождения пользователя\n",
    "user_birth_year = int(input(\"В каком году вы родились? \"))\n",
    "# вычитаем текущий год из года, введенного пользователем \n",
    "user_age = current_year - user_birth_year\n",
    "print(user_age)"
   ]
  },
  {
   "cell_type": "code",
   "execution_count": 89,
   "id": "840a93b0",
   "metadata": {},
   "outputs": [
    {
     "data": {
      "text/plain": [
       "<matplotlib.legend.Legend at 0x19fc1d93c10>"
      ]
     },
     "execution_count": 89,
     "metadata": {},
     "output_type": "execute_result"
    },
    {
     "data": {
      "image/png": "[encoded data removed]",
      "text/plain": [
       "<Figure size 640x480 with 2 Axes>"
      ]
     },
     "metadata": {},
     "output_type": "display_data"
    }
   ],
   "source": [
    "# Задача_5 Создайте график на основе данных с использованием библиотеки Matplotlib\n",
    "import seaborn as sns\n",
    "import matplotlib.pyplot as plt\n",
    "import numpy as np\n",
    "\n",
    "width = 0.3\n",
    "d1 = ['Пн', 'Вт', 'Ср', 'Чт', 'Пт', 'Сб', 'Вс']\n",
    "t1 = [14, 16, 21, 22, 18, 18, 20]\n",
    "t2 = [16, 20, 22, 22, 24, 24, 21]\n",
    "x_indexes = np.arange(len(d1))\n",
    "\n",
    "plt.figure()\n",
    "plt.subplot(1,2,1)\n",
    "\n",
    "sns.set(style=\"whitegrid\")\n",
    "plt.title('Изменение температуры')\n",
    "plt.xlabel('Дни недели')\n",
    "plt.ylabel('Температура, ºС')\n",
    "plt.plot(d1, t1, label='апрель', marker='o')\n",
    "plt.plot(d1, t2, label='май', marker='^')\n",
    "plt.legend()\n",
    "\n",
    "plt.subplot(1,2,2)\n",
    "\n",
    "sns.set(style=\"whitegrid\")\n",
    "plt.xticks(x_indexes, ['Пн', 'Вт', 'Ср', 'Чт', 'Пт', 'Сб', 'Вс'])\n",
    "plt.title('Изменение температуры')\n",
    "plt.xlabel('Дни недели')\n",
    "plt.ylabel('Температура, ºС')\n",
    "plt.bar(x_indexes - (width/2), t1, label='апрель', width=width)\n",
    "plt.bar(x_indexes + (width/2), t2, label='май', width=width)\n",
    "plt.legend()\n"
   ]
  },
  {
   "cell_type": "code",
   "execution_count": null,
   "id": "2f9ea216",
   "metadata": {},
   "outputs": [],
   "source": []
  }
 ],
 "metadata": {
  "kernelspec": {
   "display_name": "Python 3 (ipykernel)",
   "language": "python",
   "name": "python3"
  },
  "language_info": {
   "codemirror_mode": {
    "name": "ipython",
    "version": 3
   },
   "file_extension": ".py",
   "mimetype": "text/x-python",
   "name": "python",
   "nbconvert_exporter": "python",
   "pygments_lexer": "ipython3",
   "version": "3.11.5"
  }
 },
 "nbformat": 4,
 "nbformat_minor": 5
}
