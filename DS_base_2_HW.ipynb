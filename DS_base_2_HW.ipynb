{
 "cells": [
  {
   "cell_type": "code",
   "execution_count": 5,
   "id": "835a95cb",
   "metadata": {},
   "outputs": [],
   "source": [
    "import pandas as pd\n",
    "import random"
   ]
  },
  {
   "cell_type": "code",
   "execution_count": 12,
   "id": "bad7a26d",
   "metadata": {},
   "outputs": [],
   "source": [
    "class ClusterGenerator:\n",
    "    \"\"\"класс для генерации данных\"\"\"\n",
    "    # определяем основные характеристики\n",
    "    Age = 0\n",
    "    Height = 0\n",
    "    def __init__(self):\n",
    "        print(\"This is non parametrized constructor\") \n",
    "   \n",
    "    def column(self, center, spread):\n",
    "        self.center = center\n",
    "        self.spread = spread\n",
    "        \n",
    "        col_age = cg.column('Age', center, spread)\n",
    "        col_height = cg.column('Height', center, spread)\n",
    "        return (col_age, col_height)\n",
    "    \n",
    "    def generate(self): \n",
    "        df = cg.generate(str_number, col_age, col_height)\n",
    "        return df    \n",
    "    \n",
    "        x = lambda: random.gauss(column['center'], column['spread'])\n",
    "        y = lambda: random.gauss(column['center'], column['spread'])"
   ]
  },
  {
   "cell_type": "code",
   "execution_count": 13,
   "id": "acfefe81",
   "metadata": {},
   "outputs": [
    {
     "name": "stdout",
     "output_type": "stream",
     "text": [
      "This is non parametrized constructor\n"
     ]
    },
    {
     "ename": "TypeError",
     "evalue": "ClusterGenerator.column() got multiple values for argument 'center'",
     "output_type": "error",
     "traceback": [
      "\u001b[1;31m---------------------------------------------------------------------------\u001b[0m",
      "\u001b[1;31mTypeError\u001b[0m                                 Traceback (most recent call last)",
      "Cell \u001b[1;32mIn[13], line 5\u001b[0m\n\u001b[0;32m      1\u001b[0m cg \u001b[38;5;241m=\u001b[39m ClusterGenerator()\n\u001b[0;32m      3\u001b[0m \u001b[38;5;66;03m# создаем первый dataframe: мужчины, средний возраст 33 года, средний рост 180 см\u001b[39;00m\n\u001b[0;32m      4\u001b[0m male_df \u001b[38;5;241m=\u001b[39m cg\u001b[38;5;241m.\u001b[39mgenerate(\u001b[38;5;241m1000\u001b[39m, [\n\u001b[1;32m----> 5\u001b[0m         cg\u001b[38;5;241m.\u001b[39mcolumn(\u001b[38;5;124m'\u001b[39m\u001b[38;5;124mAge\u001b[39m\u001b[38;5;124m'\u001b[39m, center\u001b[38;5;241m=\u001b[39m\u001b[38;5;241m33\u001b[39m, spread\u001b[38;5;241m=\u001b[39m\u001b[38;5;241m3\u001b[39m),\n\u001b[0;32m      6\u001b[0m         cg\u001b[38;5;241m.\u001b[39mcolumn(\u001b[38;5;124m'\u001b[39m\u001b[38;5;124mHeight\u001b[39m\u001b[38;5;124m'\u001b[39m, center\u001b[38;5;241m=\u001b[39m\u001b[38;5;241m180\u001b[39m, spread\u001b[38;5;241m=\u001b[39m\u001b[38;5;241m10\u001b[39m)              \n\u001b[0;32m      7\u001b[0m         ])\n\u001b[0;32m      9\u001b[0m \u001b[38;5;66;03m# добавляем колонку для обозначения пола\u001b[39;00m\n\u001b[0;32m     10\u001b[0m male_df[\u001b[38;5;124m'\u001b[39m\u001b[38;5;124mgender\u001b[39m\u001b[38;5;124m'\u001b[39m] \u001b[38;5;241m=\u001b[39m \u001b[38;5;124m'\u001b[39m\u001b[38;5;124mmale\u001b[39m\u001b[38;5;124m'\u001b[39m\n",
      "\u001b[1;31mTypeError\u001b[0m: ClusterGenerator.column() got multiple values for argument 'center'"
     ]
    }
   ],
   "source": [
    "cg = ClusterGenerator()\n",
    "\n",
    "# создаем первый dataframe: мужчины, средний возраст 33 года, средний рост 180 см\n",
    "male_df = cg.generate(1000, [\n",
    "        cg.column('Age', center=33, spread=3),\n",
    "        cg.column('Height', center=180, spread=10)              \n",
    "        ])\n",
    "\n",
    "# добавляем колонку для обозначения пола\n",
    "male_df['gender'] = 'male'\n",
    "\n",
    "# создаем второй dataframe: женщины, средний возраст 27 года, средний рост 170 см\n",
    "female_df = cg.generate(1000, [\n",
    "        cg.column('Age', center=27, spread=3),\n",
    "        cg.column('Height', center=170, spread=10)              \n",
    "        ])\n",
    "\n",
    "# добавляем колонку для обозначения пола\n",
    "female_df['gender'] = 'female'\n",
    "\n",
    "# объединим два набора данных  в один\n",
    "df = pd.concat([male_df, female_df]).reset_index(drop=True)\n",
    "\n",
    "# итоговый результат\n",
    "display(df)"
   ]
  },
  {
   "cell_type": "code",
   "execution_count": 21,
   "id": "64dc0616",
   "metadata": {},
   "outputs": [
    {
     "ename": "AttributeError",
     "evalue": "'DataFrame' object has no attribute 'gender'",
     "output_type": "error",
     "traceback": [
      "\u001b[1;31m---------------------------------------------------------------------------\u001b[0m",
      "\u001b[1;31mAttributeError\u001b[0m                            Traceback (most recent call last)",
      "Cell \u001b[1;32mIn[21], line 8\u001b[0m\n\u001b[0;32m      5\u001b[0m plt\u001b[38;5;241m.\u001b[39mfigure(figsize\u001b[38;5;241m=\u001b[39m(\u001b[38;5;241m10\u001b[39m, \u001b[38;5;241m6\u001b[39m))\n\u001b[0;32m      7\u001b[0m \u001b[38;5;66;03m# перебирая все уникальные значения в колонке \"gender\" передаем его для фильтрации\u001b[39;00m\n\u001b[1;32m----> 8\u001b[0m \u001b[38;5;28;01mfor\u001b[39;00m gender \u001b[38;5;129;01min\u001b[39;00m df\u001b[38;5;241m.\u001b[39mgender\u001b[38;5;241m.\u001b[39munique():\n\u001b[0;32m      9\u001b[0m     \u001b[38;5;66;03m# каждый пол отрисовываем на графике отдельным слоем и задаем метку\u001b[39;00m\n\u001b[0;32m     10\u001b[0m     plt\u001b[38;5;241m.\u001b[39mscatter(\n\u001b[0;32m     11\u001b[0m         df[df\u001b[38;5;241m.\u001b[39mgender \u001b[38;5;241m==\u001b[39m gender][\u001b[38;5;124m'\u001b[39m\u001b[38;5;124mage\u001b[39m\u001b[38;5;124m'\u001b[39m], \u001b[38;5;66;03m# значения по оси x\u001b[39;00m\n\u001b[0;32m     12\u001b[0m         df[df\u001b[38;5;241m.\u001b[39mgender \u001b[38;5;241m==\u001b[39m gender][\u001b[38;5;124m'\u001b[39m\u001b[38;5;124mheight\u001b[39m\u001b[38;5;124m'\u001b[39m], \u001b[38;5;66;03m# значения по оси y\u001b[39;00m\n\u001b[0;32m     13\u001b[0m         alpha\u001b[38;5;241m=\u001b[39m\u001b[38;5;241m0.5\u001b[39m, \u001b[38;5;66;03m# добавляем точкам на графике полупрозрачность\u001b[39;00m\n\u001b[0;32m     14\u001b[0m         label\u001b[38;5;241m=\u001b[39mgender \u001b[38;5;66;03m# метка пола, которая отображается на легенде\u001b[39;00m\n\u001b[0;32m     15\u001b[0m         )\n\u001b[0;32m     16\u001b[0m plt\u001b[38;5;241m.\u001b[39mlegend() \u001b[38;5;66;03m# отображаем легенду с метками\u001b[39;00m\n",
      "File \u001b[1;32m~\\anaconda3\\Lib\\site-packages\\pandas\\core\\generic.py:5989\u001b[0m, in \u001b[0;36mNDFrame.__getattr__\u001b[1;34m(self, name)\u001b[0m\n\u001b[0;32m   5982\u001b[0m \u001b[38;5;28;01mif\u001b[39;00m (\n\u001b[0;32m   5983\u001b[0m     name \u001b[38;5;129;01mnot\u001b[39;00m \u001b[38;5;129;01min\u001b[39;00m \u001b[38;5;28mself\u001b[39m\u001b[38;5;241m.\u001b[39m_internal_names_set\n\u001b[0;32m   5984\u001b[0m     \u001b[38;5;129;01mand\u001b[39;00m name \u001b[38;5;129;01mnot\u001b[39;00m \u001b[38;5;129;01min\u001b[39;00m \u001b[38;5;28mself\u001b[39m\u001b[38;5;241m.\u001b[39m_metadata\n\u001b[0;32m   5985\u001b[0m     \u001b[38;5;129;01mand\u001b[39;00m name \u001b[38;5;129;01mnot\u001b[39;00m \u001b[38;5;129;01min\u001b[39;00m \u001b[38;5;28mself\u001b[39m\u001b[38;5;241m.\u001b[39m_accessors\n\u001b[0;32m   5986\u001b[0m     \u001b[38;5;129;01mand\u001b[39;00m \u001b[38;5;28mself\u001b[39m\u001b[38;5;241m.\u001b[39m_info_axis\u001b[38;5;241m.\u001b[39m_can_hold_identifiers_and_holds_name(name)\n\u001b[0;32m   5987\u001b[0m ):\n\u001b[0;32m   5988\u001b[0m     \u001b[38;5;28;01mreturn\u001b[39;00m \u001b[38;5;28mself\u001b[39m[name]\n\u001b[1;32m-> 5989\u001b[0m \u001b[38;5;28;01mreturn\u001b[39;00m \u001b[38;5;28mobject\u001b[39m\u001b[38;5;241m.\u001b[39m\u001b[38;5;21m__getattribute__\u001b[39m(\u001b[38;5;28mself\u001b[39m, name)\n",
      "\u001b[1;31mAttributeError\u001b[0m: 'DataFrame' object has no attribute 'gender'"
     ]
    },
    {
     "data": {
      "text/plain": [
       "<Figure size 1000x600 with 0 Axes>"
      ]
     },
     "metadata": {},
     "output_type": "display_data"
    }
   ],
   "source": [
    "# ВИЗУАЛИЗАЦИЯ\n",
    "# импортируем библиотеку для визуализации данных\n",
    "import matplotlib.pyplot as plt\n",
    "\n",
    "# задаем размеры области построения будущего графика\n",
    "plt.figure(figsize=(10, 6))\n",
    "\n",
    "# перебирая все уникальные значения в колонке \"gender\" передаем его для фильтрации\n",
    "for gender in df.gender.unique():\n",
    "    # каждый пол отрисовываем на графике отдельным слоем и задаем метку\n",
    "    plt.scatter(\n",
    "        df[df.gender == gender]['Age'], # значения по оси x\n",
    "        df[df.gender == gender]['Height'], # значения по оси y\n",
    "        alpha=0.5, # добавляем точкам на графике полупрозрачность\n",
    "        label=gender # метка пола, которая отображается на легенде\n",
    "        )\n",
    "plt.legend() # отображаем легенду с метками\n",
    "plt.show() # выводим график"
   ]
  },
  {
   "cell_type": "code",
   "execution_count": null,
   "id": "62be37fd",
   "metadata": {},
   "outputs": [],
   "source": []
  }
 ],
 "metadata": {
  "kernelspec": {
   "display_name": "Python 3 (ipykernel)",
   "language": "python",
   "name": "python3"
  },
  "language_info": {
   "codemirror_mode": {
    "name": "ipython",
    "version": 3
   },
   "file_extension": ".py",
   "mimetype": "text/x-python",
   "name": "python",
   "nbconvert_exporter": "python",
   "pygments_lexer": "ipython3",
   "version": "3.11.5"
  }
 },
 "nbformat": 4,
 "nbformat_minor": 5
}
