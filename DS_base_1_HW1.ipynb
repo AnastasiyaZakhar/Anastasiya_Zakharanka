{
 "cells": [
  {
   "cell_type": "code",
   "execution_count": 1,
   "id": "219c7aa5",
   "metadata": {},
   "outputs": [
    {
     "name": "stdout",
     "output_type": "stream",
     "text": [
      "[10, 9, 8, 7, 6, 5, 4, 3, 2, 1]\n",
      "10 - четное\n",
      "9 - нечетное\n",
      "8 - четное\n",
      "7 - нечетное\n",
      "6 - четное\n",
      "5 - нечетное\n",
      "4 - четное\n",
      "3 - нечетное\n",
      "2 - четное\n",
      "1 - нечетное\n"
     ]
    }
   ],
   "source": [
    "list = [1, 2, 3, 4, 5, 6, 7, 8, 9, 10]\n",
    "\n",
    "new_list = []\n",
    "\n",
    "for number in list:\n",
    "    new_list = [number] + new_list\n",
    "print(new_list)\n",
    "\n",
    "index = 0\n",
    "while index < len(new_list):\n",
    "    element = new_list[index]\n",
    "    if element % 2 == 0:\n",
    "        print(element, '- четное')\n",
    "    else:\n",
    "        print(element, '- нечетное')\n",
    "    index += 1"
   ]
  },
  {
   "cell_type": "code",
   "execution_count": null,
   "id": "998db13e",
   "metadata": {},
   "outputs": [],
   "source": []
  }
 ],
 "metadata": {
  "kernelspec": {
   "display_name": "Python 3 (ipykernel)",
   "language": "python",
   "name": "python3"
  },
  "language_info": {
   "codemirror_mode": {
    "name": "ipython",
    "version": 3
   },
   "file_extension": ".py",
   "mimetype": "text/x-python",
   "name": "python",
   "nbconvert_exporter": "python",
   "pygments_lexer": "ipython3",
   "version": "3.11.5"
  }
 },
 "nbformat": 4,
 "nbformat_minor": 5
}
