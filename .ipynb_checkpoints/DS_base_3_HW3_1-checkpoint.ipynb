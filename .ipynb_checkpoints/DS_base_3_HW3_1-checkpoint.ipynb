{
 "cells": [
  {
   "cell_type": "markdown",
   "id": "44f4f8e5",
   "metadata": {},
   "source": [
    "# Простой генератор данных для домашнего задания\n",
    "Можете побаловаться в генерации и настройках"
   ]
  },
  {
   "cell_type": "code",
   "execution_count": 2,
   "id": "a07b6a13",
   "metadata": {},
   "outputs": [
    {
     "data": {
      "text/html": [
       "<div>\n",
       "<style scoped>\n",
       "    .dataframe tbody tr th:only-of-type {\n",
       "        vertical-align: middle;\n",
       "    }\n",
       "\n",
       "    .dataframe tbody tr th {\n",
       "        vertical-align: top;\n",
       "    }\n",
       "\n",
       "    .dataframe thead th {\n",
       "        text-align: right;\n",
       "    }\n",
       "</style>\n",
       "<table border=\"1\" class=\"dataframe\">\n",
       "  <thead>\n",
       "    <tr style=\"text-align: right;\">\n",
       "      <th></th>\n",
       "      <th>date</th>\n",
       "      <th>group</th>\n",
       "      <th>conversion</th>\n",
       "      <th>LTV</th>\n",
       "    </tr>\n",
       "  </thead>\n",
       "  <tbody>\n",
       "    <tr>\n",
       "      <th>0</th>\n",
       "      <td>2024-02-01</td>\n",
       "      <td>1</td>\n",
       "      <td>0</td>\n",
       "      <td>106.245460</td>\n",
       "    </tr>\n",
       "    <tr>\n",
       "      <th>1</th>\n",
       "      <td>2024-02-01</td>\n",
       "      <td>0</td>\n",
       "      <td>0</td>\n",
       "      <td>116.812134</td>\n",
       "    </tr>\n",
       "    <tr>\n",
       "      <th>2</th>\n",
       "      <td>2024-02-01</td>\n",
       "      <td>1</td>\n",
       "      <td>0</td>\n",
       "      <td>93.494161</td>\n",
       "    </tr>\n",
       "    <tr>\n",
       "      <th>3</th>\n",
       "      <td>2024-02-01</td>\n",
       "      <td>1</td>\n",
       "      <td>0</td>\n",
       "      <td>100.141635</td>\n",
       "    </tr>\n",
       "    <tr>\n",
       "      <th>4</th>\n",
       "      <td>2024-02-01</td>\n",
       "      <td>0</td>\n",
       "      <td>0</td>\n",
       "      <td>59.795667</td>\n",
       "    </tr>\n",
       "  </tbody>\n",
       "</table>\n",
       "</div>"
      ],
      "text/plain": [
       "        date  group  conversion         LTV\n",
       "0 2024-02-01      1           0  106.245460\n",
       "1 2024-02-01      0           0  116.812134\n",
       "2 2024-02-01      1           0   93.494161\n",
       "3 2024-02-01      1           0  100.141635\n",
       "4 2024-02-01      0           0   59.795667"
      ]
     },
     "execution_count": 2,
     "metadata": {},
     "output_type": "execute_result"
    }
   ],
   "source": [
    "import pandas as pd\n",
    "import numpy as np\n",
    "\n",
    "# Настройки для симуляции данных\n",
    "np.random.seed(42)  # Для воспроизводимости результатов\n",
    "num_days = 25\n",
    "min_users_per_day = 134\n",
    "max_users_per_day = 412\n",
    "date_range = pd.date_range(start='2024-02-01', periods=num_days, freq='D')\n",
    "\n",
    "# Генерация количества пользователей в день\n",
    "users_per_day = np.random.randint(min_users_per_day, max_users_per_day + 1, size=num_days)\n",
    "\n",
    "# Инициализация DataFrame\n",
    "data = pd.DataFrame({\n",
    "    \"date\": np.repeat(date_range, users_per_day),\n",
    "    \"group\": np.nan,  # Будет заполнено позже\n",
    "    \"conversion\": np.nan,  # Будет заполнено позже\n",
    "    \"LTV\": np.nan  # Будет заполнено позже\n",
    "})\n",
    "\n",
    "# Заполнение групп аб теста\n",
    "data[\"group\"] = np.random.choice([0, 1], size=len(data))\n",
    "\n",
    "# Заполнение конверсий с небольшим преимуществом для группы 1\n",
    "conversion_rates = {0: 0.2, 1: 0.22}  # Небольшое преимущество для группы 1\n",
    "data[\"conversion\"] = data[\"group\"].map(lambda g: np.random.choice([0, 1], p=[1-conversion_rates[g], conversion_rates[g]]))\n",
    "\n",
    "# Заполнение LTV с небольшим преимуществом для группы 1\n",
    "ltv_means = {0: 100, 1: 110}  # Средние значения LTV для каждой группы\n",
    "ltv_std_dev = 20  # Стандартное отклонение LTV\n",
    "data[\"LTV\"] = data[\"group\"].map(lambda g: np.maximum(0, np.random.normal(ltv_means[g], ltv_std_dev)))\n",
    "\n",
    "data.head()"
   ]
  },
  {
   "cell_type": "markdown",
   "id": "d2ed0957",
   "metadata": {},
   "source": [
    "Анализ и тесты\n",
    "Здесь ваша практика"
   ]
  },
  {
   "cell_type": "code",
   "execution_count": 3,
   "id": "31a8a883",
   "metadata": {},
   "outputs": [],
   "source": [
    "# импортируем библиотеки для проведения анализа результата эксперимента\n",
    "\n",
    "from scipy.stats import (\n",
    "    mannwhitneyu, # https://docs.scipy.org/doc/scipy/reference/generated/scipy.stats.mannwhitneyu.html#scipy.stats.mannwhitneyu\n",
    "    chi2_contingency, # https://docs.scipy.org/doc/scipy/reference/generated/scipy.stats.chi2_contingency.html#scipy.stats.chi2_contingency\n",
    "    ttest_ind # https://docs.scipy.org/doc/scipy/reference/generated/scipy.stats.ttest_ind.html#scipy.stats.ttest_ind\n",
    "    )"
   ]
  },
  {
   "cell_type": "code",
   "execution_count": 4,
   "id": "58d8d5a5",
   "metadata": {},
   "outputs": [
    {
     "data": {
      "image/png": "[encoded data removed]",
      "text/plain": [
       "<Figure size 640x480 with 1 Axes>"
      ]
     },
     "metadata": {},
     "output_type": "display_data"
    }
   ],
   "source": [
    "# посмотрев на распределение группы конверсий в регистрацию,\n",
    "# можем сделать вывод, что у нас дискретные величины, к которым можно применить метод хи квадрата\n",
    "\n",
    "for group in data.group.unique():\n",
    "    data[data.group == group].conversion.hist(legend=True, bins=3, alpha=.5)"
   ]
  },
  {
   "cell_type": "markdown",
   "id": "d2092d62",
   "metadata": {},
   "source": [
    "### Здесь необходимо рассчитать результатаы теста:"
   ]
  },
  {
   "cell_type": "code",
   "execution_count": 25,
   "id": "75b99ffa",
   "metadata": {},
   "outputs": [
    {
     "data": {
      "text/html": [
       "<div>\n",
       "<style scoped>\n",
       "    .dataframe tbody tr th:only-of-type {\n",
       "        vertical-align: middle;\n",
       "    }\n",
       "\n",
       "    .dataframe tbody tr th {\n",
       "        vertical-align: top;\n",
       "    }\n",
       "\n",
       "    .dataframe thead th {\n",
       "        text-align: right;\n",
       "    }\n",
       "</style>\n",
       "<table border=\"1\" class=\"dataframe\">\n",
       "  <thead>\n",
       "    <tr style=\"text-align: right;\">\n",
       "      <th>conversion</th>\n",
       "      <th>0</th>\n",
       "      <th>1</th>\n",
       "    </tr>\n",
       "    <tr>\n",
       "      <th>group</th>\n",
       "      <th></th>\n",
       "      <th></th>\n",
       "    </tr>\n",
       "  </thead>\n",
       "  <tbody>\n",
       "    <tr>\n",
       "      <th>0</th>\n",
       "      <td>2846</td>\n",
       "      <td>687</td>\n",
       "    </tr>\n",
       "    <tr>\n",
       "      <th>1</th>\n",
       "      <td>2747</td>\n",
       "      <td>734</td>\n",
       "    </tr>\n",
       "  </tbody>\n",
       "</table>\n",
       "</div>"
      ],
      "text/plain": [
       "conversion     0    1\n",
       "group                \n",
       "0           2846  687\n",
       "1           2747  734"
      ]
     },
     "metadata": {},
     "output_type": "display_data"
    }
   ],
   "source": [
    "# можно смело проводить анализ конверсии методом хи квадрата\n",
    "\n",
    "# подготовим данные в виде сводной таблицы\n",
    "conversion_table = data.pivot_table(index='group', columns='conversion', aggfunc='size', fill_value=0)\n",
    "display(conversion_table)\n"
   ]
  },
  {
   "cell_type": "code",
   "execution_count": 33,
   "id": "35cd6868",
   "metadata": {},
   "outputs": [
    {
     "data": {
      "text/plain": [
       "(2.8208789823868283,\n",
       " 0.09304543732011573,\n",
       " 1,\n",
       " array([[2817.23253493,  715.76746507],\n",
       "        [2775.76746507,  705.23253493]]))"
      ]
     },
     "execution_count": 33,
     "metadata": {},
     "output_type": "execute_result"
    }
   ],
   "source": [
    "# Данные о группах и конверсиях\n",
    "data_2 = [[2846, 687],  # group 1: conversion 0, conversion 1\n",
    "        [2747, 734]]  # group 2: conversion 0, conversion 1\n",
    "\n",
    "# Применение хи-квадрат теста\n",
    "chi2, p, dof, expected = chi2_contingency(data_2)\n",
    "\n",
    "chi2, p, dof, expected\n",
    "\n",
    "# В данном примере мы проверили, связаны ли как-то группы и проводимые конверсии.\n",
    "# В данном случае: \n",
    "    # Нулевая гипотеза Н0: две переменные (group и conversion) независимы;\n",
    "    # Альтернативная гипотеза Н1: две переменные не являются независимыми.\n",
    "# Полученные результаты, в частности, p-value = 0.093 > 0.05, указывают на то, что мы не можем отвергнуть нулевую гипотезу.\n",
    "# Поэтому рассмотреные переменные group и conversion являются независимыми.\n"
   ]
  },
  {
   "cell_type": "code",
   "execution_count": 35,
   "id": "5c686cd2",
   "metadata": {},
   "outputs": [
    {
     "data": {
      "text/plain": [
       "Chi2ContingencyResult(statistic=0.0, pvalue=1.0, dof=0, expected_freq=array([116.81213426,  59.79566691, 136.15261611, ..., 152.95768427,\n",
       "       109.07871777,  88.77286525]))"
      ]
     },
     "execution_count": 35,
     "metadata": {},
     "output_type": "execute_result"
    }
   ],
   "source": [
    "chi2_contingency(data[data.group == 0].LTV, data[data.group == 1].LTV)"
   ]
  },
  {
   "cell_type": "code",
   "execution_count": 6,
   "id": "10112575",
   "metadata": {},
   "outputs": [
    {
     "data": {
      "text/html": [
       "<div>\n",
       "<style scoped>\n",
       "    .dataframe tbody tr th:only-of-type {\n",
       "        vertical-align: middle;\n",
       "    }\n",
       "\n",
       "    .dataframe tbody tr th {\n",
       "        vertical-align: top;\n",
       "    }\n",
       "\n",
       "    .dataframe thead tr th {\n",
       "        text-align: left;\n",
       "    }\n",
       "</style>\n",
       "<table border=\"1\" class=\"dataframe\">\n",
       "  <thead>\n",
       "    <tr>\n",
       "      <th></th>\n",
       "      <th>date</th>\n",
       "      <th>group</th>\n",
       "      <th>visit_to_reg</th>\n",
       "    </tr>\n",
       "    <tr>\n",
       "      <th></th>\n",
       "      <th></th>\n",
       "      <th></th>\n",
       "      <th></th>\n",
       "    </tr>\n",
       "  </thead>\n",
       "  <tbody>\n",
       "    <tr>\n",
       "      <th>0</th>\n",
       "      <td>2024-02-01</td>\n",
       "      <td>0</td>\n",
       "      <td>0.176471</td>\n",
       "    </tr>\n",
       "    <tr>\n",
       "      <th>1</th>\n",
       "      <td>2024-02-02</td>\n",
       "      <td>0</td>\n",
       "      <td>0.223404</td>\n",
       "    </tr>\n",
       "    <tr>\n",
       "      <th>2</th>\n",
       "      <td>2024-02-03</td>\n",
       "      <td>0</td>\n",
       "      <td>0.187500</td>\n",
       "    </tr>\n",
       "    <tr>\n",
       "      <th>3</th>\n",
       "      <td>2024-02-04</td>\n",
       "      <td>0</td>\n",
       "      <td>0.175926</td>\n",
       "    </tr>\n",
       "    <tr>\n",
       "      <th>4</th>\n",
       "      <td>2024-02-05</td>\n",
       "      <td>0</td>\n",
       "      <td>0.268750</td>\n",
       "    </tr>\n",
       "  </tbody>\n",
       "</table>\n",
       "</div>"
      ],
      "text/plain": [
       "        date group visit_to_reg\n",
       "                               \n",
       "0 2024-02-01     0     0.176471\n",
       "1 2024-02-02     0     0.223404\n",
       "2 2024-02-03     0     0.187500\n",
       "3 2024-02-04     0     0.175926\n",
       "4 2024-02-05     0     0.268750"
      ]
     },
     "metadata": {},
     "output_type": "display_data"
    },
    {
     "data": {
      "image/png": "[encoded data removed]",
      "text/plain": [
       "<Figure size 640x480 with 1 Axes>"
      ]
     },
     "metadata": {},
     "output_type": "display_data"
    }
   ],
   "source": [
    "# подготовим данные для U и T тестов, преобразовав дискретные значения колонки conversion в непрерывные\n",
    "\n",
    "groupped_data = data.groupby(['group', 'date']).agg({ # группируем данные по дате и группе в тесте\n",
    "    'conversion': ['count', 'sum'], # подсчитываем число наблюдений и число конверсий в день\n",
    "}).reset_index() # удаляем индекс, что бы индексы group и date после группировки стали обратно колонками\n",
    "\n",
    "# теперь расчитываем конверсию из визита в регистрацию, разделив число регистраций в день на число визитов в день\n",
    "groupped_data['visit_to_reg'] = groupped_data['conversion']['sum'] / groupped_data['conversion']['count']\n",
    "\n",
    "# оставляем только нужные нам колонки\n",
    "groupped_data = groupped_data[['date', 'group', 'visit_to_reg']]\n",
    "display(groupped_data.head())\n",
    "\n",
    "for group in groupped_data.group.unique():\n",
    "    groupped_data[groupped_data.group == group].visit_to_reg.hist(legend=True, bins=5, alpha=.5)"
   ]
  },
  {
   "cell_type": "code",
   "execution_count": 7,
   "id": "f60f2476",
   "metadata": {},
   "outputs": [
    {
     "data": {
      "image/png": "[encoded data removed]",
      "text/plain": [
       "<Figure size 640x480 with 1 Axes>"
      ]
     },
     "metadata": {},
     "output_type": "display_data"
    }
   ],
   "source": [
    "# Смотрим, как распределяются данные LTV\n",
    "\n",
    "for group in data.group.unique():\n",
    "    data[data.group == group].LTV.hist(legend=True, bins=50, alpha=.5)"
   ]
  },
  {
   "cell_type": "code",
   "execution_count": 8,
   "id": "3026b7e3",
   "metadata": {},
   "outputs": [
    {
     "name": "stdout",
     "output_type": "stream",
     "text": [
      "shapiro_visit_to_reg:\n",
      "{0: ShapiroResult(statistic=0.9699722528457642, pvalue=0.6443667411804199), 1: ShapiroResult(statistic=0.9599431753158569, pvalue=0.41334426403045654)}\n",
      "\n",
      "shapiro_ltv:\n",
      "{1: ShapiroResult(statistic=0.9996983408927917, pvalue=0.9137394428253174), 0: ShapiroResult(statistic=0.9994524121284485, pvalue=0.4142128825187683)}\n"
     ]
    }
   ],
   "source": [
    "# проверяем оба наших набора данных методом Шапиро-Уилка на нормальность распределения,\n",
    "# и как следствие возможность применения t-теста\n",
    "\n",
    "from scipy.stats import shapiro\n",
    "\n",
    "shapiro_visit_to_reg = {group: shapiro(groupped_data[groupped_data.group == group].visit_to_reg.values) for group in groupped_data.group.unique()}\n",
    "shapiro_ltv = {group: shapiro(data[data.group == group].LTV.values) for group in data.group.unique()}\n",
    "\n",
    "print('shapiro_visit_to_reg:')\n",
    "print(shapiro_visit_to_reg)\n",
    "print()\n",
    "print('shapiro_ltv:')\n",
    "print(shapiro_ltv)    "
   ]
  },
  {
   "cell_type": "markdown",
   "id": "cfa007f5",
   "metadata": {},
   "source": [
    "p-значение обоих распределений больше 0.05, что говорит о возможности применения t-теста для всех наших метрик."
   ]
  },
  {
   "cell_type": "markdown",
   "id": "9876deb4",
   "metadata": {},
   "source": [
    "### Здесь необходимо рассчитать результатаы теста для конверсий и LTV:"
   ]
  },
  {
   "cell_type": "code",
   "execution_count": 36,
   "id": "1d567552",
   "metadata": {},
   "outputs": [
    {
     "name": "stdout",
     "output_type": "stream",
     "text": [
      "[0.17647058823529413, 0.22340425531914893, 0.1875, 0.17592592592592593, 0.26875, 0.1375, 0.24603174603174602, 0.16911764705882354, 0.2154696132596685, 0.2079207920792079, 0.25217391304347825, 0.16891891891891891, 0.19658119658119658, 0.17037037037037037, 0.20212765957446807, 0.16666666666666666, 0.19724770642201836, 0.16455696202531644, 0.18518518518518517, 0.2, 0.1782178217821782, 0.11956521739130435, 0.22549019607843138, 0.19205298013245034, 0.18354430379746836]\n",
      "\n",
      "[0.20512820512820512, 0.19444444444444445, 0.19642857142857142, 0.1958762886597938, 0.19135802469135801, 0.21621621621621623, 0.17272727272727273, 0.23529411764705882, 0.2275449101796407, 0.25, 0.1440677966101695, 0.24087591240875914, 0.2789115646258503, 0.22297297297297297, 0.17733990147783252, 0.20118343195266272, 0.19791666666666666, 0.27941176470588236, 0.10810810810810811, 0.1691542288557214, 0.24550898203592814, 0.2111111111111111, 0.2, 0.19736842105263158, 0.27607361963190186]\n",
      "\n",
      "дисперсия для групп 0 равна 0.0011006900268228552\n",
      "дисперсия для групп 1 равна 0.001569082671596978\n",
      "\n",
      "t_statistic (conversion) = -1.6089138152963047 ,   p_value (conversion) = 0.1141934608733301\n",
      "\n",
      "u_stat (conversion) = 217.5 ,   u_p_value (conversion) = 0.06671140910217598\n"
     ]
    }
   ],
   "source": [
    "from scipy import stats\n",
    "from scipy.stats import mannwhitneyu\n",
    "import numpy as np\n",
    "import pandas as pd\n",
    "\n",
    "# ТЕСТ ПО КОНВЕРСИИ\n",
    "# данные по конверсии в группе 0\n",
    "group_a = groupped_data[(groupped_data['group'] == 0)]                  \n",
    "conversion_a = group_a['visit_to_reg']. tolist ()\n",
    "\n",
    "print(conversion_a)\n",
    "print()\n",
    "\n",
    "# данные по конверсии в группе 1\n",
    "group_b = groupped_data[(groupped_data['group'] == 1)]    \n",
    "conversion_b = group_b['visit_to_reg']. tolist ()\n",
    "\n",
    "print(conversion_b)\n",
    "print()\n",
    "print('дисперсия для групп 0 равна', np.var(conversion_a)) \n",
    "print('дисперсия для групп 1 равна', np.var(conversion_b))\n",
    "\n",
    "# Применение t-теста для независимых выборок по конверсии\n",
    "t_statistic_conversion, p_value_conversion = stats.ttest_ind(conversion_a, conversion_b)\n",
    "print()\n",
    "print('t_statistic (conversion) =', t_statistic_conversion, ',   p_value (conversion) =', p_value_conversion)\n",
    "\n",
    "# Применение U-test (Манна-Уитни) для независимых выборок по конверсии\n",
    "stat_conversion_u, p_value_conversion_u = mannwhitneyu(conversion_a, conversion_b, alternative='two-sided')\n",
    "print()\n",
    "print('u_stat (conversion) =', stat_conversion_u, ',   u_p_value (conversion) =', p_value_conversion_u)"
   ]
  },
  {
   "cell_type": "code",
   "execution_count": 37,
   "id": "84694ae2",
   "metadata": {},
   "outputs": [
    {
     "name": "stdout",
     "output_type": "stream",
     "text": [
      "\n",
      "дисперсия для групп 0 равна 396.0114040003375\n",
      "дисперсия для групп 1 равна 390.8476418755562\n",
      "\n",
      "t_statistic (ltv) = -20.713950356048343 ,   p_value (ltv) = 1.4657660748149579e-92\n",
      "\n",
      "u_stat (ltv) = 4472392.0 ,   u_p_value (ltv) = 4.81741971851626e-87\n"
     ]
    }
   ],
   "source": [
    "from scipy import stats\n",
    "from scipy.stats import mannwhitneyu\n",
    "import numpy as np\n",
    "import pandas as pd\n",
    "\n",
    "# ТЕСТ ПО LTV\n",
    "# данные по LTV в группе 0\n",
    "group_c = data[(data['group'] == 0)]  \n",
    "\n",
    "ltv_c = group_c['LTV']. tolist ()\n",
    "\n",
    "print()\n",
    "\n",
    "# данные по LTV в группе 1\n",
    "group_d = data[(data['group'] == 1)]    \n",
    "ltv_d = group_d['LTV']. tolist ()\n",
    "\n",
    "print('дисперсия для групп 0 равна', np.var(ltv_c)) \n",
    "print('дисперсия для групп 1 равна', np.var(ltv_d))\n",
    "\n",
    "\n",
    "# Применение t-теста для независимых выборок по LTV\n",
    "t_statistic_ltv, p_value_ltv = stats.ttest_ind(ltv_c, ltv_d)\n",
    "\n",
    "t_statistic_ltv, p_value_ltv\n",
    "print()\n",
    "print('t_statistic (ltv) =', t_statistic_ltv, ',   p_value (ltv) =', p_value_ltv)\n",
    "\n",
    "# Применение U-test (Манна-Уитни) для независимых выборок по LTV\n",
    "stat_ltv_u, p_value_ltv_u = mannwhitneyu(ltv_c, ltv_d, alternative='two-sided')\n",
    "print()\n",
    "print('u_stat (ltv) =', stat_ltv_u, ',   u_p_value (ltv) =', p_value_ltv_u)\n"
   ]
  },
  {
   "cell_type": "markdown",
   "id": "9f37a75a",
   "metadata": {},
   "source": [
    "### Сравните результаты всех тестов и сделайте выводы:"
   ]
  },
  {
   "cell_type": "code",
   "execution_count": null,
   "id": "aa554ac2",
   "metadata": {},
   "outputs": [],
   "source": [
    "# Хи-квадрат - расчеты приведены выше In[22]\n",
    "\n",
    "# В данном примере мы проверили, связаны ли как-то группы и проводимые конверсии (две категориальные переменные).\n",
    "# В данном случае: \n",
    "    # Нулевая гипотеза Н0: две переменные (group и conversion) независимы;\n",
    "    # Альтернативная гипотеза Н1: две переменные не являются независимыми.\n",
    "# Полученные результаты, в частности, p-value = 0.093 > 0.05, указывают на то, что мы не можем отвергнуть нулевую гипотезу.\n",
    "# Поэтому рассмотреные переменные group и conversion являются независимыми.\n",
    "\n",
    "\n",
    "# Случай 1 - Конверсии\n",
    "# Задача: проверить имеют ли две разные группы одинаковую среднюю величину конверсии\n",
    "# Нулевая гипотеза H0 : µ 1 = µ 2 - две средние совокупности равны\n",
    "# Альтернативная гипотеза HA : µ 1 ≠ µ 2 две средние совокупности не равны\n",
    "\n",
    "# Результат (t-test): полученная величина p_value = 0.11419 > 0.05 свидетельствует о том, \n",
    "# что мы не можем отвергнуть нулевую гипотезу, т.е. у нас недостаточно данных утверждать о том, что \n",
    "# средние величины конверсий в двух группах различны\n",
    "\n",
    "# Результат (U-test (Манна-Уитни)): полученная величина p_value = 0.06671 > 0.05 свидетельствует о том, \n",
    "# что мы не можем отвергнуть нулевую гипотезу, т.е. у нас недостаточно данных утверждать о том, что \n",
    "# средние величины конверсий в двух группах различны\n",
    "\n",
    "\n",
    "# Случай 2 - LTV\n",
    "# Задача: проверить имеют ли две разные группы одинаковую среднюю величину LTV\n",
    "# Нулевая гипотеза H0 : µ 1 = µ 2 - две средние совокупности равны\n",
    "# Альтернативная гипотеза HA : µ 1 ≠ µ 2 две средние совокупности не равны\n",
    "\n",
    "# Результат (t-test): полученная величина p_value = 1.4657660748149579e-92 < 0.05, что свидетесльствует о том, \n",
    "# что мы можем отвергнуть нулевую гипотезу, т.е. средние величины LTV в двух группах различны\n",
    "\n",
    "# Результат (U-test (Манна-Уитни)): полученная величина p_value = 4.81741971851626e-87 < 0.05, что свидетесльствует о том, \n",
    "# что мы можем отвергнуть нулевую гипотезу, т.е. средние величины LTV в двух группах различны\n",
    "\n",
    "# Как видно, по двум тестам (t-test и U-test (Манна-Уитни)) \n",
    "# в каждом случае (конверсии и LTV) были получены аналогичные результаты.\n",
    "\n"
   ]
  },
  {
   "cell_type": "code",
   "execution_count": null,
   "id": "ff30d471",
   "metadata": {},
   "outputs": [],
   "source": []
  }
 ],
 "metadata": {
  "kernelspec": {
   "display_name": "Python 3 (ipykernel)",
   "language": "python",
   "name": "python3"
  },
  "language_info": {
   "codemirror_mode": {
    "name": "ipython",
    "version": 3
   },
   "file_extension": ".py",
   "mimetype": "text/x-python",
   "name": "python",
   "nbconvert_exporter": "python",
   "pygments_lexer": "ipython3",
   "version": "3.11.5"
  }
 },
 "nbformat": 4,
 "nbformat_minor": 5
}
