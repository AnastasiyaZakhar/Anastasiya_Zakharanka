{
 "cells": [
  {
   "cell_type": "code",
   "execution_count": null,
   "id": "b22fc5ae",
   "metadata": {},
   "outputs": [],
   "source": [
    "### Оценка категориальных признаков"
   ]
  },
  {
   "cell_type": "code",
   "execution_count": null,
   "id": "03430a8f",
   "metadata": {},
   "outputs": [],
   "source": [
    "# Попробуем оценить влияние категориальных величин на целевую метрику\n",
    "\n",
    "# Выведем категориальные данные в отдельную таблицу\n",
    "data102 = pd.DataFrame(df_balanced).copy()\n",
    "cont_features = ['Usage_kWh','Lagging_Power','Leading_Power','CO2(tCO2)','Lagging_Factor','Leading_Factor','NSM']\n",
    "data102.drop(cont_features, axis=1, inplace=True)\n",
    "data102.head()"
   ]
  },
  {
   "cell_type": "code",
   "execution_count": null,
   "id": "5021d59f",
   "metadata": {},
   "outputs": [],
   "source": [
    "# Переведем целевую метрику в числовые значения\n",
    "# Light_Load = 0, Medium_Load = 1, Maximum_Load = 2\n",
    "\n",
    "import pandas as pd\n",
    "from sklearn.preprocessing import OrdinalEncoder\n",
    "\n",
    "data102['Load_Type'].unique()"
   ]
  },
  {
   "cell_type": "code",
   "execution_count": null,
   "id": "68336026",
   "metadata": {},
   "outputs": [],
   "source": [
    "loads = ['Light_Load', 'Medium_Load', 'Maximum_Load']\n",
    "encoder102 = OrdinalEncoder(categories = [loads])\n",
    "encoder102.fit_transform(data102[['Load_Type']])\n",
    "data102['Load_Type_№'] = encoder102.fit_transform(data102[['Load_Type']])\n",
    "data102.head()"
   ]
  },
  {
   "cell_type": "code",
   "execution_count": null,
   "id": "8dcd4b65",
   "metadata": {},
   "outputs": [],
   "source": [
    "import pandas as pd\n",
    "import numpy as np\n",
    "import seaborn as sns\n",
    "import matplotlib.pyplot as plt\n",
    "\n",
    "# Влияние категориальной величины 'WeekStatus' на целевую метрику\n",
    "\n",
    "sns.set(font_scale = 1)\n",
    "\n",
    "data102 = data102.explode('Load_Type_№')\n",
    "data102['Load_Type_№'] = data102['Load_Type_№'].astype('float')\n",
    "sns.violinplot(data=data102, x='WeekStatus', y='Load_Type_№')\n",
    "\n",
    "data102.groupby('Load_Type_№')['WeekStatus'].value_counts()"
   ]
  },
  {
   "cell_type": "code",
   "execution_count": null,
   "id": "f338d846",
   "metadata": {},
   "outputs": [],
   "source": [
    "# Влияние категориальной величины 'Day_Of_Week' на целевую метрику\n",
    "\n",
    "#data103 = data102.explode('Load_Type_№')\n",
    "#data103['Load_Type_№'] = data103['Load_Type_№'].astype('float')\n",
    "sns.violinplot(data=data102, x='Day_Of_Week', y='Load_Type_№')\n",
    "\n",
    "data102.groupby('Load_Type_№')['Day_Of_Week'].value_counts()"
   ]
  },
  {
   "cell_type": "code",
   "execution_count": null,
   "id": "4877a12d",
   "metadata": {},
   "outputs": [],
   "source": [
    "Как можно увидеть из графиков существует определенное влияние категориальной величины 'WeekStatus' на тип производственной нагрузки. В то время как признак 'Day_Of_Week' имеет достаточно равномерное распределение. "
   ]
  },
  {
   "cell_type": "code",
   "execution_count": null,
   "id": "978b5bbe",
   "metadata": {},
   "outputs": [],
   "source": []
  },
  {
   "cell_type": "code",
   "execution_count": null,
   "id": "65bb4569",
   "metadata": {},
   "outputs": [],
   "source": [
    "from sklearn.preprocessing import StandardScaler\n",
    "from sklearn.decomposition import PCA\n",
    "from sklearn.model_selection import train_test_split\n",
    "\n",
    "# Разделяем фатафрейм на признаки и разметку\n",
    "data333_dropped = data333.drop(data333.index[57:61])\n",
    "\n",
    "X50 = data333_dropped.copy()\n",
    "del X50['Load_Type']\n",
    "y50 = data333_dropped.Load_Type.copy()\n",
    "\n",
    "# Разделение данных на тренировочную и тестовую выборки\n",
    "X50_train, X50_test, y50_train, y50_test = train_test_split(X50, y50, test_size=0.2, random_state = 42)"
   ]
  },
  {
   "cell_type": "code",
   "execution_count": null,
   "id": "5f26e594",
   "metadata": {},
   "outputs": [],
   "source": [
    "# Импорт моделей\n",
    "from sklearn.linear_model import LogisticRegression\n",
    "from sklearn.svm import SVC\n",
    "from sklearn.ensemble import RandomForestClassifier\n",
    "from sklearn.neighbors import KNeighborsClassifier\n",
    "from sklearn.naive_bayes import GaussianNB\n",
    "from sklearn.tree import DecisionTreeClassifier\n",
    "\n",
    "models = {\n",
    "    \"Logistic Regression\": LogisticRegression(max_iter=10000),\n",
    "    \"SVM\": SVC(),\n",
    "    \"Random Forest\": RandomForestClassifier(),\n",
    "    \"KNN\": KNeighborsClassifier(),\n",
    "    \"Naive Bayes\": GaussianNB(),\n",
    "    \"Decision Tree\": DecisionTreeClassifier()\n",
    "}"
   ]
  },
  {
   "cell_type": "code",
   "execution_count": null,
   "id": "154ad22c",
   "metadata": {},
   "outputs": [],
   "source": [
    "from sklearn.pipeline import make_pipeline\n",
    "from sklearn.metrics import accuracy_score\n",
    "from sklearn.metrics import RocCurveDisplay\n",
    "from sklearn.metrics import roc_curve, roc_auc_score\n",
    "\n",
    "# Обучение моделей и сохранение обученных конвейеров\n",
    "trained_pipelines = {}\n",
    "\n",
    "for name, model in models.items():\n",
    "    pipeline = make_pipeline(StandardScaler(), PCA(n_components=0.95), model)\n",
    "    pipeline.fit(X50_train, y50_train)\n",
    "    y50_pred = pipeline.predict(X50_test)\n",
    "    accuracy = round(accuracy_score(y50_test, y50_pred), 5)\n",
    "    trained_pipelines[name] = pipeline  # Сохраняем обученный конвейер\n",
    "    print(f\"{name} accuracy: {accuracy}\")\n",
    "    "
   ]
  },
  {
   "cell_type": "code",
   "execution_count": null,
   "id": "5c1b1d02",
   "metadata": {},
   "outputs": [],
   "source": [
    "pd.options.display.float_format = '{:.5f}'.format # преобразует все значения из степенного вида в целые\n",
    "                                                  # Например 1.256e+2 станет 125.600\n",
    "df_result = pd.DataFrame({'Версия Dataset': [0, 1],\n",
    "                   'Logistic Regression': [0.66583, 0.67583],\n",
    "                   'SVM': [0.7818, 0.7918],\n",
    "                   'Random Forest': [0.85515, 0.86515],\n",
    "                   'KNN': [0.84437, 0.85437],\n",
    "                   'Naive Bayes': [0.67912, 0.68912],\n",
    "                   'Decision Tree': [0.82489, 0.83489]\n",
    "                 })\n",
    "\n",
    "plt.plot(df_result['Logistic Regression'], label='Logistic Regression', color='green')\n",
    "plt.plot(df_result['SVM'], label='SVM', color='steelblue', linewidth= 4 )\n",
    "\n",
    "#label='Sales', color='purple', linestyle='dashed'\n",
    "\n",
    "plt.legend()\n",
    "\n",
    "plt.ylabel('Accuracy', fontsize= 12)\n",
    "plt.xlabel('Версия Dataset', fontsize= 12)\n",
    "plt.title('Изменение точности моделей машинного обучения', fontsize= 14 )\n",
    "\n",
    "#display plot\n",
    "plt.show() "
   ]
  },
  {
   "cell_type": "code",
   "execution_count": null,
   "id": "f87f168f",
   "metadata": {},
   "outputs": [],
   "source": [
    "from sklearn.preprocessing import StandardScaler\n",
    "from sklearn.decomposition import PCA\n",
    "from sklearn.model_selection import train_test_split\n",
    "\n",
    "X_check = data333.iloc[57:61].copy()\n",
    "del X_check['Load_Type']\n",
    "real_load_type = data333.iloc[57:61].Load_Type.copy()\n",
    "\n",
    "display(X_check)\n",
    "display(real_load_type)"
   ]
  },
  {
   "cell_type": "code",
   "execution_count": null,
   "id": "06aed862",
   "metadata": {},
   "outputs": [],
   "source": [
    "predictions = {}\n",
    "for name, pipeline in trained_pipelines.items():\n",
    "    pred = pipeline.predict(X_check)\n",
    "    predictions[name] = pred\n",
    "\n",
    "for i, a in predictions.items():\n",
    "  print(f'{i}:')\n",
    "  for c in a:\n",
    "    print(f'    {c}')\n",
    "\n",
    "print(f'\\nReal_Load_Type:')\n",
    "for c in real_load_type:\n",
    "  print(f'    {c}')"
   ]
  },
  {
   "cell_type": "code",
   "execution_count": null,
   "id": "9708b164",
   "metadata": {},
   "outputs": [],
   "source": []
  },
  {
   "cell_type": "code",
   "execution_count": null,
   "id": "13ad84cf",
   "metadata": {},
   "outputs": [],
   "source": [
    "pd.options.display.float_format = '{:.5f}'.format # преобразует все значения из степенного вида в целые\n",
    "                                                  # Например 1.256e+2 станет 125.600\n",
    "df_result = pd.DataFrame({'Версия Dataset': [0, 1],\n",
    "                   'Logistic Regression': [0.62549, 0.62549],\n",
    "                   'SVM': [0.74857, 0.74857],\n",
    "                   'Random Forest': [0.82993, 0.82993],\n",
    "                   'KNN': [0.83108, 0.83108],\n",
    "                   'Naive Bayes': [0.686, 0.686],\n",
    "                   'Decision Tree': [0.82902, 0.82902]\n",
    "                 })\n",
    "\n",
    "plt.plot(df_result['Logistic Regression'], label='Logistic Regression', color='green')\n",
    "plt.plot(df_result['SVM'], label='SVM', color='steelblue', linewidth= 4 )\n",
    "plt.plot(df_result['Random Forest'], label='Random Forest', color='purple', linestyle='dashed')\n",
    "plt.plot(df_result['KNN'], label='KNN', color='steelblue', linewidth= 2 )\n",
    "plt.plot(df_result['Naive Bayes'], label='Naive Bayes', color='yellow')\n",
    "plt.plot(df_result['Decision Tree'], label='Decision Tree', color='pink', linewidth= 4 )\n",
    "\n",
    "#label='Sales', color='purple', linestyle='dashed'\n",
    "\n",
    "plt.legend()\n",
    "\n",
    "plt.ylabel('Accuracy', fontsize= 12)\n",
    "plt.xlabel('Версия Dataset', fontsize= 12)\n",
    "plt.title('Изменение точности моделей машинного обучения', fontsize= 14 )\n",
    "\n",
    "#display plot\n",
    "plt.show() "
   ]
  },
  {
   "cell_type": "code",
   "execution_count": null,
   "id": "9153b463",
   "metadata": {},
   "outputs": [],
   "source": []
  },
  {
   "cell_type": "code",
   "execution_count": null,
   "id": "5d9f14a1",
   "metadata": {},
   "outputs": [],
   "source": []
  },
  {
   "cell_type": "code",
   "execution_count": null,
   "id": "b1f53f2d",
   "metadata": {},
   "outputs": [],
   "source": [
    "# Проведем обучение модели на исходных данных сбалансированного Dataset (с учетом только числовых признаков)\n",
    "\n",
    "cols_1 = ['Usage_kWh','Lagging_Power','Leading_Power','CO2(tCO2)', 'Lagging_Factor', 'Leading_Factor', 'NSM', 'Load_Type'] \n",
    "\n",
    "data_1 = df_balanced[cols_1]\n",
    "\n",
    "data_1.head()"
   ]
  },
  {
   "cell_type": "code",
   "execution_count": null,
   "id": "28b2e752",
   "metadata": {},
   "outputs": [],
   "source": [
    "from sklearn.preprocessing import StandardScaler\n",
    "from sklearn.decomposition import PCA\n",
    "from sklearn.model_selection import train_test_split\n",
    "\n",
    "# Разделяем фатафрейм на признаки и разметку\n",
    "data_1_dropped = data_1.drop(data_1.index[57:61])\n",
    "\n",
    "X1 = data_1_dropped.copy()\n",
    "del X1['Load_Type']\n",
    "y1 = data_1_dropped.Load_Type.copy()\n",
    "\n",
    "# Разделение данных на тренировочную и тестовую выборки\n",
    "X1_train, X1_test, y1_train, y1_test = train_test_split(X1, y1, test_size=0.2, random_state = 42)"
   ]
  },
  {
   "cell_type": "code",
   "execution_count": null,
   "id": "be50a9f6",
   "metadata": {},
   "outputs": [],
   "source": [
    "# Начинаем обучение модели, применив только метод главных компонентов РСА\n",
    "\n",
    "from sklearn.pipeline import make_pipeline\n",
    "from sklearn.metrics import accuracy_score\n",
    "\n",
    "# Обучение моделей и сохранение обученных конвейеров\n",
    "trained_pipelines_1 = {}\n",
    "\n",
    "for name, model in models.items():\n",
    "    pipeline_1 = make_pipeline(PCA(n_components=0.95), model)\n",
    "    pipeline_1.fit(X1_train, y1_train)\n",
    "    y1_pred = pipeline_1.predict(X1_test)\n",
    "    accuracy = round(accuracy_score(y1_test, y1_pred), 5)\n",
    "    trained_pipelines_1[name] = pipeline_1  # Сохраняем обученный конвейер\n",
    "    print(f\"{name} accuracy: {accuracy}\")"
   ]
  },
  {
   "cell_type": "code",
   "execution_count": null,
   "id": "9f3ab4f7",
   "metadata": {},
   "outputs": [],
   "source": [
    "from sklearn.preprocessing import StandardScaler\n",
    "from sklearn.decomposition import PCA\n",
    "from sklearn.model_selection import train_test_split\n",
    "\n",
    "X_check = data_1.iloc[57:61].copy()\n",
    "del X_check['Load_Type']\n",
    "real_load_type = data_1.iloc[57:61].Load_Type.copy()\n",
    "\n",
    "display(X_check)\n",
    "display(real_load_type)"
   ]
  },
  {
   "cell_type": "code",
   "execution_count": null,
   "id": "3c581520",
   "metadata": {},
   "outputs": [],
   "source": [
    "predictions = {}\n",
    "for name, pipeline in trained_pipelines_1.items():\n",
    "    pred = pipeline_1.predict(X_check)\n",
    "    predictions[name] = pred\n",
    "\n",
    "for i, a in predictions.items():\n",
    "  print(f'{i}:')\n",
    "  for c in a:\n",
    "    print(f'    {c}')\n",
    "\n",
    "print(f'\\nReal_Load_Type:')\n",
    "for c in real_load_type:\n",
    "  print(f'    {c}')"
   ]
  },
  {
   "cell_type": "code",
   "execution_count": null,
   "id": "2501c445",
   "metadata": {},
   "outputs": [],
   "source": []
  },
  {
   "cell_type": "code",
   "execution_count": null,
   "id": "51b269a7",
   "metadata": {},
   "outputs": [],
   "source": [
    "# data3 = pd.DataFrame(steel_dataset).copy()\n",
    "\n",
    "# data3['Day_Of_Week'].unique()"
   ]
  },
  {
   "cell_type": "code",
   "execution_count": null,
   "id": "27ddc557",
   "metadata": {},
   "outputs": [],
   "source": [
    "# days = ['Monday', 'Tuesday', 'Wednesday', 'Thursday', 'Friday', 'Saturday', 'Sunday']\n",
    "\n",
    "# encoder = OrdinalEncoder(categories = [days])\n",
    "\n",
    "# encoder.fit_transform(data3[['Day_Of_Week']])"
   ]
  },
  {
   "cell_type": "code",
   "execution_count": null,
   "id": "628f0aed",
   "metadata": {},
   "outputs": [],
   "source": [
    "# data3['Day_Of_Week'] = encoder.fit_transform(data3[['Day_Of_Week']])\n",
    "# data3.tail(5)"
   ]
  },
  {
   "cell_type": "code",
   "execution_count": null,
   "id": "f0f3d6ab",
   "metadata": {},
   "outputs": [],
   "source": [
    "# data3['Day_Of_Week'].value_counts()"
   ]
  },
  {
   "cell_type": "code",
   "execution_count": null,
   "id": "bdc98f62",
   "metadata": {},
   "outputs": [],
   "source": []
  },
  {
   "cell_type": "code",
   "execution_count": null,
   "id": "6bce7d12",
   "metadata": {},
   "outputs": [],
   "source": []
  }
 ],
 "metadata": {
  "kernelspec": {
   "display_name": "Python 3 (ipykernel)",
   "language": "python",
   "name": "python3"
  },
  "language_info": {
   "codemirror_mode": {
    "name": "ipython",
    "version": 3
   },
   "file_extension": ".py",
   "mimetype": "text/x-python",
   "name": "python",
   "nbconvert_exporter": "python",
   "pygments_lexer": "ipython3",
   "version": "3.11.5"
  }
 },
 "nbformat": 4,
 "nbformat_minor": 5
}
