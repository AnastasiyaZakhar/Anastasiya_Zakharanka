{
 "cells": [
  {
   "cell_type": "code",
   "execution_count": 16,
   "id": "99b9d8b8",
   "metadata": {},
   "outputs": [],
   "source": [
    "class House():\n",
    "    \"\"\"описание дома\"\"\"\n",
    "    def __init__(self, street, number):\n",
    "        \"\"\"свойства дома\"\"\"\n",
    "        self.street = street\n",
    "        self.number = number\n",
    "    def build(self):\n",
    "        \"\"\"строит дом\"\"\"\n",
    "        print(\"Дом на улице \" + self.street + \" под номером \" + str(self.number) + \" построен.\")"
   ]
  },
  {
   "cell_type": "code",
   "execution_count": 17,
   "id": "4507118f",
   "metadata": {},
   "outputs": [],
   "source": [
    "House1 = House(\"Московская\", 20)\n",
    "House2 = House(\"Московская\", 21)"
   ]
  },
  {
   "cell_type": "code",
   "execution_count": 18,
   "id": "852eff94",
   "metadata": {},
   "outputs": [
    {
     "name": "stdout",
     "output_type": "stream",
     "text": [
      "21\n"
     ]
    }
   ],
   "source": [
    "print(House2.number)"
   ]
  },
  {
   "cell_type": "code",
   "execution_count": 19,
   "id": "1b0eba66",
   "metadata": {},
   "outputs": [
    {
     "name": "stdout",
     "output_type": "stream",
     "text": [
      "Дом на улице Московская под номером 20 построен.\n"
     ]
    }
   ],
   "source": [
    "House1.build()"
   ]
  },
  {
   "cell_type": "code",
   "execution_count": null,
   "id": "ee701d16",
   "metadata": {},
   "outputs": [],
   "source": []
  }
 ],
 "metadata": {
  "kernelspec": {
   "display_name": "Python 3 (ipykernel)",
   "language": "python",
   "name": "python3"
  },
  "language_info": {
   "codemirror_mode": {
    "name": "ipython",
    "version": 3
   },
   "file_extension": ".py",
   "mimetype": "text/x-python",
   "name": "python",
   "nbconvert_exporter": "python",
   "pygments_lexer": "ipython3",
   "version": "3.11.5"
  }
 },
 "nbformat": 4,
 "nbformat_minor": 5
}
